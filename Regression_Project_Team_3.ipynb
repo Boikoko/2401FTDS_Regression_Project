{
  "nbformat": 4,
  "nbformat_minor": 0,
  "metadata": {
    "colab": {
      "provenance": []
    },
    "kernelspec": {
      "name": "python3",
      "display_name": "Python 3"
    },
    "language_info": {
      "name": "python"
    }
  },
  "cells": [
    {
      "cell_type": "markdown",
      "source": [
        "#[Project Title]"
      ],
      "metadata": {
        "id": "UcomOv2eiK1Q"
      }
    },
    {
      "cell_type": "markdown",
      "source": [
        "##Table of Contents"
      ],
      "metadata": {
        "id": "-bM4495ziTJ2"
      }
    },
    {
      "cell_type": "markdown",
      "source": [
        "- <b> [1. Project Overview](#chapter1)\n",
        "    - [1.1. Introduction](#section_1_1)\n",
        "    - [1.2. Objective](#section_1_2)\n",
        "- <b> [2. Importing Packages](#chapter2)\n",
        "- <b> [3. Data Loading and Inspection](#chapter3)\n",
        "- <b> [4. Data Cleaning](#chapter4)\n",
        "- <b> [5. Exploratory Data Analysis (EDA)](#chapter5)\n",
        "- <b> [6. Feature Engineering](#chapter6)</b>\n",
        "- <b> [7. Model Development](#chapter7)</b>\n",
        "- <b> [8. Model Performance](#chapter8)\n",
        "- <b> [9. Forecasting](#chapter9)\n",
        "- <b> [10. Conclusion and Insights](#chapter10)</b>\n"
      ],
      "metadata": {
        "id": "wjqpyTqwizOq"
      }
    },
    {
      "cell_type": "markdown",
      "source": [
        "##1. Project Overview <a class=\"anchor\" id=\"chapter1\"></a>"
      ],
      "metadata": {
        "id": "qGpjdVy9icoy"
      }
    },
    {
      "cell_type": "markdown",
      "source": [
        "###1.1 Introduction <a class=\"anchor\" id=\"section_1_1\"></a>"
      ],
      "metadata": {
        "id": "aTNX6Oleiv_m"
      }
    },
    {
      "cell_type": "markdown",
      "source": [
        "\n",
        "\n",
        "*   Brief background on the climate change and agricultural activities\n",
        "*   State project aim\n",
        "*   State key questions??\n",
        "*   State dataset origin and describe features\n",
        "*   Describe notebook structure\n",
        "*   Brief description of analysis methodology\n",
        "\n"
      ],
      "metadata": {
        "id": "EshSOY26nlLq"
      }
    },
    {
      "cell_type": "markdown",
      "source": [
        "### 1.2 Objective <a class=\"anchor\" id=\"section_1_2\"></a>"
      ],
      "metadata": {
        "id": "mpawJNyZn78N"
      }
    },
    {
      "cell_type": "markdown",
      "source": [
        "\n",
        "*   Perform exploratory data analysis on the agricultural dataset??\n",
        "*   Identify the relationship between CO2 emmisions and climate change or temperature variations??\n",
        "*   Identify emission sources that are significant contributors of CO2 emissions and have major influence on temperature variations??\n",
        "\n",
        "*   Develop a regression model to predict temperature variations??\n",
        "\n"
      ],
      "metadata": {
        "id": "liDTxx8UoYJG"
      }
    },
    {
      "cell_type": "markdown",
      "source": [
        "##2. Importing Packages <a class=\"anchor\" id=\"chapter2\"></a>"
      ],
      "metadata": {
        "id": "pPQzL0sgioNe"
      }
    },
    {
      "cell_type": "markdown",
      "source": [
        "*Brief section introduction"
      ],
      "metadata": {
        "id": "THMco0LYi6AQ"
      }
    },
    {
      "cell_type": "code",
      "source": [
        "# Libraries for data manipulation and analysis\n",
        "import numpy as np\n",
        "import pandas as pd\n",
        "import seaborn as sns\n",
        "import matplotlib.pyplot as plt\n",
        "\n",
        "# Libraries for regression analysis\n",
        "import statsmodels.api as sm\n",
        "from sklearn.linear_model import LinearRegression\n",
        "from sklearn.model_selection import train_test_split\n",
        "from sklearn.metrics import mean_squared_error, r2_score\n",
        "\n",
        "# Displays output inline\n",
        "%matplotlib inline\n",
        "\n",
        "# Libraries for Handing Warnings\n",
        "import warnings\n",
        "warnings.filterwarnings('ignore')"
      ],
      "metadata": {
        "id": "Vx2xzoG5i8jS"
      },
      "execution_count": null,
      "outputs": []
    },
    {
      "cell_type": "markdown",
      "source": [],
      "metadata": {
        "id": "XJSMZX__i_IF"
      }
    },
    {
      "cell_type": "markdown",
      "source": [
        "##3. Data Loading and Inspection <a class=\"anchor\" id=\"chapter3\"></a>"
      ],
      "metadata": {
        "id": "xpp1yKGei_kN"
      }
    },
    {
      "cell_type": "markdown",
      "source": [
        "*Brief section introduction"
      ],
      "metadata": {
        "id": "8PLvAA-OjGMf"
      }
    },
    {
      "cell_type": "code",
      "source": [],
      "metadata": {
        "id": "Bg72RowCjSa_"
      },
      "execution_count": null,
      "outputs": []
    },
    {
      "cell_type": "markdown",
      "source": [
        "##4. Data Cleaning <a class=\"anchor\" id=\"chapter4\"></a>"
      ],
      "metadata": {
        "id": "MQm2s1RjjS22"
      }
    },
    {
      "cell_type": "markdown",
      "source": [
        "*Brief section introduction"
      ],
      "metadata": {
        "id": "lxL06yBsjjJU"
      }
    },
    {
      "cell_type": "code",
      "source": [],
      "metadata": {
        "id": "qtSZS-sGjj9n"
      },
      "execution_count": null,
      "outputs": []
    },
    {
      "cell_type": "markdown",
      "source": [
        "*Insights/comments"
      ],
      "metadata": {
        "id": "uRkm9EsQjkRP"
      }
    },
    {
      "cell_type": "markdown",
      "source": [
        "##5. Exploratory Data Analysis <a class=\"anchor\" id=\"chapter5\"></a>"
      ],
      "metadata": {
        "id": "somAo8bpjkhR"
      }
    },
    {
      "cell_type": "markdown",
      "source": [
        "*Brief section introduction"
      ],
      "metadata": {
        "id": "y_xspBt9j3eu"
      }
    },
    {
      "cell_type": "code",
      "source": [],
      "metadata": {
        "id": "O0SD87aFj5lS"
      },
      "execution_count": null,
      "outputs": []
    },
    {
      "cell_type": "markdown",
      "source": [
        "*Insights/comments"
      ],
      "metadata": {
        "id": "8B0CX9YGj3-r"
      }
    },
    {
      "cell_type": "markdown",
      "source": [
        "##6. Feature Engineering <a class=\"anchor\" id=\"chapter6\"></a>"
      ],
      "metadata": {
        "id": "XJSyotdzj4U2"
      }
    },
    {
      "cell_type": "markdown",
      "source": [
        "*Brief section introduction"
      ],
      "metadata": {
        "id": "D_TP5I_ckAQ2"
      }
    },
    {
      "cell_type": "code",
      "source": [],
      "metadata": {
        "id": "c7vwcpR-kAo1"
      },
      "execution_count": null,
      "outputs": []
    },
    {
      "cell_type": "markdown",
      "source": [
        "*Insights"
      ],
      "metadata": {
        "id": "GCYiiiqikA-6"
      }
    },
    {
      "cell_type": "markdown",
      "source": [
        "##7. Model Development <a class=\"anchor\" id=\"chapter7\"></a>"
      ],
      "metadata": {
        "id": "gl8WSasokBQ8"
      }
    },
    {
      "cell_type": "markdown",
      "source": [
        "*Brief section introduction"
      ],
      "metadata": {
        "id": "Y0K0z0GjkfG5"
      }
    },
    {
      "cell_type": "code",
      "source": [],
      "metadata": {
        "id": "qMKEJ1XDkfj_"
      },
      "execution_count": null,
      "outputs": []
    },
    {
      "cell_type": "markdown",
      "source": [
        "*Insights/comments"
      ],
      "metadata": {
        "id": "3q_WteiLkgvc"
      }
    },
    {
      "cell_type": "markdown",
      "source": [
        "##8. Model Performance <a class=\"anchor\" id=\"chapter8\"></a>"
      ],
      "metadata": {
        "id": "FYzEmyvCkhNd"
      }
    },
    {
      "cell_type": "markdown",
      "source": [
        "*Brief section introduction"
      ],
      "metadata": {
        "id": "jH4wyHgckual"
      }
    },
    {
      "cell_type": "code",
      "source": [],
      "metadata": {
        "id": "Cl2aLRNRk7lK"
      },
      "execution_count": null,
      "outputs": []
    },
    {
      "cell_type": "markdown",
      "source": [
        "*Insights/comments"
      ],
      "metadata": {
        "id": "ob0eRfQVk78i"
      }
    },
    {
      "cell_type": "markdown",
      "source": [
        "##9. Forecasting <a class=\"anchor\" id=\"chapter9\"></a>"
      ],
      "metadata": {
        "id": "V7FF60LTlHq4"
      }
    },
    {
      "cell_type": "markdown",
      "source": [
        "*Brief section introduction"
      ],
      "metadata": {
        "id": "8TA5RjKclOT3"
      }
    },
    {
      "cell_type": "code",
      "execution_count": null,
      "metadata": {
        "id": "BnDYMKgMiBpu"
      },
      "outputs": [],
      "source": []
    },
    {
      "cell_type": "markdown",
      "source": [
        "*Insights/comments"
      ],
      "metadata": {
        "id": "ITpbjHDjlO_f"
      }
    },
    {
      "cell_type": "markdown",
      "source": [
        "##10. Conclusion and Recommendations <a class=\"anchor\" id=\"chapter10\"></a>"
      ],
      "metadata": {
        "id": "PdOdMMk2ldDX"
      }
    },
    {
      "cell_type": "markdown",
      "source": [
        "*Summarise Insights\n",
        "*Offer recommendations such as sustainable agricultural practices"
      ],
      "metadata": {
        "id": "1vTten3alp1D"
      }
    }
  ]
}