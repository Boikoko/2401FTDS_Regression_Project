{
  "cells": [
    {
      "cell_type": "markdown",
      "metadata": {
        "id": "UcomOv2eiK1Q"
      },
      "source": [
        "# Analysing the Impact of Agricultural CO2 emissions on Climate Change"
      ]
    },
    {
      "cell_type": "markdown",
      "metadata": {},
      "source": [
        "\n",
        "<div id=\"agriculture\", align=\"center\">\n",
        "\n",
        "  <img src=\"agriculture.jpg\" width=\"1000\" height=\"500\" alt=\"\"/>\n",
        "\n",
        "</div>"
      ]
    },
    {
      "cell_type": "markdown",
      "metadata": {
        "id": "-bM4495ziTJ2"
      },
      "source": [
        "## Table of Contents"
      ]
    },
    {
      "cell_type": "markdown",
      "metadata": {
        "id": "wjqpyTqwizOq"
      },
      "source": [
        "- <b> [1. Project Overview](#1-project-overview)\n",
        "    - [1.1. Introduction](#11-introduction)\n",
        "    - [1.2. Objective](#12-objective)\n",
        "- <b> [2. Importing Packages](#2-importing-packages)\n",
        "- <b> [3. Data Loading and Inspection](#3-data-loading-and-inspection)\n",
        "- <b> [4. Data Cleaning](#4-data-cleaning)\n",
        "- <b> [5. Exploratory Data Analysis (EDA)](#5-exploratory-data-analysis)\n",
        "- <b> [6. Feature Engineering](#6-feature-engineering)</b>\n",
        "- <b> [7. Model Development](#7-model-development)</b>\n",
        "- <b> [8. Model Performance](#8-model-performance)\n",
        "- <b> [9. Forecasting](#9-forecasting)\n",
        "- <b> [10. Conclusion and Insights](#10-conclusion-and-recommendations)</b>\n",
        "- <b> [11. References]()\n"
      ]
    },
    {
      "cell_type": "markdown",
      "metadata": {
        "id": "qGpjdVy9icoy"
      },
      "source": [
        "## 1. Project Overview <a class=\"anchor\" id=\"chapter1\"></a>"
      ]
    },
    {
      "cell_type": "markdown",
      "metadata": {
        "id": "aTNX6Oleiv_m"
      },
      "source": [
        "### 1.1 Introduction <a class=\"anchor\" id=\"section_1_1\"></a>"
      ]
    },
    {
      "cell_type": "markdown",
      "metadata": {
        "id": "EshSOY26nlLq"
      },
      "source": [
        "Climate change is a global issue that has significant ramifications on the environment. It a weather phenomenon defined as the long-term significant shift in weather and temperature conditions. It is caused by greenhouse gas emissions that trap the sun's heat, typically carbon dioxide (CO2) or methane (CH4), which results in global temperature upsurges. Various industries and sectors contribute to global emissions. The agricultural sector is responsible for a third of these emissions as one of the leading sources of CO2 emissions and biodiversity loss.[reference] The investigation and comprehension of the effect the sector has on climate change trends is paramount for devising effective mitigation strategies and implementing sustainable agricultural practices. Such strategies and practises may include agroforestry, crop rotation, biodynamic agriculture and Renewanble energy integration. [reference]. \n",
        "\n",
        "The main objective of this project is to investigate and comprehend the impact of agricultural activities on climate change. This is fulfilled by analysing and predicting the effect of various CO2 emission sources on climate change. Consequently, uncovering underlying patterns and key insights to inform strategy development. The analyses is conducted using data retrieved from the Food and Agriculture Organization (FAO) and the Intergovernmental Panel on Climate Change (IPCC) for various countries/areas. The dataset comprises of the average temperature variations in Celcius (&deg;C), the carbon dioxide emissions from several sources and the total emissions  in kilotonnes (kt) for the year 1990 to 2020. Climate change is represented as the trend in temperature variations observed in an area. A higher variation denotes extreme climate change, whereas a lower variation indicates a stable climate. The variation can either be positive or negative, describing a warming and cooling climate repectively. The CO2 sources are given as:\n",
        "*   Savanna fires \n",
        "*   Forest fires \n",
        "*   Crop Residues\n",
        "*   Rice Cultivation\n",
        "*   Drained organic soils (CO2)\n",
        "*   Pesticides Manufacturing\n",
        "*   Food Transport\n",
        "*   Forestland\n",
        "*   Net Forest conversion\n",
        "*   Food Household Consumption\n",
        "*   Food Retail\n",
        "*   On-farm Electricity Use\n",
        "*   Food Packaging\n",
        "*   Agrifood Systems Waste Disposal\n",
        "*   Food Processing\n",
        "*   Fertilizers Manufacturing\n",
        "*   IPPU\n",
        "*   Manure applied to Soils\n",
        "*   Manure Management\n",
        "*   Fires in organic soils\n",
        "*   Fires in humid tropical forests\n",
        "*   On-farm energy use\n",
        "*   Rural population\n",
        "*   Urban population\n",
        "*   Total Male Population\n",
        "*   Total Female Population\n",
        "\n",
        "A thorough data analysis procedure is employed, followed by regression predictive modelling. The procedure is embedded in the structure of this notebook. The notebook consists of several sections and exploits python's extensive capabilities by utilizing regression, data analysis and visulisation libraries. The first section imports python packages essential for analysis. The data loading section loads and inspects the dataset for errors and/or data consistencies. The subsequent section cleans the dataset by handling the errors and data consistencies found, preparing it for analysis. The exploratory data analysis section draws valuable insights from the dataset using statistical techniques and data visualisations. In the feature engineering section, the dataset is prepared for regression modelling. The predictive model is developed and evaluated in the model development and model performance sections accordingly. The insights gathered from both analyses will highlight the impact of agricultural activities on climate change and will be reviewed in the conclusions and recommendation section. Here suitable mitigation strategies are discussed at length and recommended to the stakeholders for implementation. \n"
      ]
    },
    {
      "cell_type": "markdown",
      "metadata": {
        "id": "mpawJNyZn78N"
      },
      "source": [
        "### 1.2 Objective <a class=\"anchor\" id=\"section_1_2\"></a>"
      ]
    },
    {
      "cell_type": "markdown",
      "metadata": {
        "id": "liDTxx8UoYJG"
      },
      "source": [
        "The key objectives are defined as follows:\n",
        "\n",
        "*   To perform exploratory data analysis on the agricultural emissions dataset.\n",
        "*   To identify the relationship between CO2 emmisions and temperature variations.\n",
        "*   To identify and describe the global trend for climate change.\n",
        "*   To identify emission sources that are significant contributors of CO2 emissions and have major influence on temperature variations.\n",
        "*   To perform regression analysis on the agricultural emissions dataset.\n",
        "*   To develop a regression model to predict temperature variations.\n",
        "*   To offer actionable insights to agricultural stakeholders including policymakers and agricultural organisations.\n"
      ]
    },
    {
      "cell_type": "markdown",
      "metadata": {
        "id": "pPQzL0sgioNe"
      },
      "source": [
        "## 2. Importing Packages <a class=\"anchor\" id=\"chapter2\"></a>"
      ]
    },
    {
      "cell_type": "markdown",
      "metadata": {
        "id": "THMco0LYi6AQ"
      },
      "source": [
        "In this segment, the library packages necessary for data analysis and regression analysis are imported. The main libraries are:\n",
        "*   <b>*Pandas:*</b> Stores data in DataFrames and facilitates data manipulation and analysis.\n",
        "*   <b>*Numpy:*</b> Assists in data manipulation by supporting numerical computations on data array.\n",
        "*   <b>*Matplotlib:*</b> Used to create static and interactive data visualisations.\n",
        "*   <b>*Seaborn:*</b>  Builds upon the matplotlib library by creating visually appealing data visualisations.\n",
        "*   <b>*Sklearn:*</b> Used to build and evaluate machine learning models.\n",
        "\n",
        "The `%matplotlib inline` line ensure the figures generated by matplotlib are placed within the notebook. Additionally, the warnings library is imported for the supression of raised warnings. This is to avoid  unneccessary interruptions during code execution. \n"
      ]
    },
    {
      "cell_type": "code",
      "execution_count": 1,
      "metadata": {
        "id": "Vx2xzoG5i8jS"
      },
      "outputs": [],
      "source": [
        "## Libraries for data manipulation and analysis\n",
        "import numpy as np\n",
        "import pandas as pd\n",
        "import seaborn as sns\n",
        "import matplotlib.pyplot as plt\n",
        "\n",
        "## Libraries for regression analysis\n",
        "from sklearn.model_selection import train_test_split  #Splits dataframe into training and testing set\n",
        "from sklearn.preprocessing import StandardScaler #Scales data\n",
        "\n",
        "from sklearn.linear_model import LinearRegression, Lasso, Ridge, ElasticNet  #Various linear regression model regressors\n",
        "from sklearn.tree import DecisionTreeRegressor #Decision tree regressor\n",
        "\n",
        "from sklearn.ensemble import RandomForestRegressor, BaggingRegressor,  AdaBoostRegressor #Ensemble methods regressors\n",
        "\n",
        "from sklearn.metrics import mean_squared_error, r2_score    #Evaluates model evaluation\n",
        "\n",
        "## Displays output inline\n",
        "%matplotlib inline\n",
        "\n",
        "## Libraries for Handing Warnings\n",
        "import warnings\n",
        "warnings.filterwarnings('ignore')"
      ]
    },
    {
      "cell_type": "markdown",
      "metadata": {
        "id": "xpp1yKGei_kN"
      },
      "source": [
        "## 3. Data Loading and Inspection <a class=\"anchor\" id=\"chapter3\"></a>"
      ]
    },
    {
      "cell_type": "markdown",
      "metadata": {
        "id": "8PLvAA-OjGMf"
      },
      "source": [
        "*Brief section introduction"
      ]
    },
    {
      "cell_type": "code",
      "execution_count": null,
      "metadata": {
        "id": "Bg72RowCjSa_"
      },
      "outputs": [],
      "source": []
    },
    {
      "cell_type": "markdown",
      "metadata": {
        "id": "MQm2s1RjjS22"
      },
      "source": [
        "## 4. Data Cleaning <a class=\"anchor\" id=\"chapter4\"></a>"
      ]
    },
    {
      "cell_type": "markdown",
      "metadata": {
        "id": "lxL06yBsjjJU"
      },
      "source": [
        "*Brief section introduction"
      ]
    },
    {
      "cell_type": "code",
      "execution_count": null,
      "metadata": {
        "id": "qtSZS-sGjj9n"
      },
      "outputs": [],
      "source": []
    },
    {
      "cell_type": "markdown",
      "metadata": {
        "id": "uRkm9EsQjkRP"
      },
      "source": [
        "*Insights/comments"
      ]
    },
    {
      "cell_type": "markdown",
      "metadata": {
        "id": "somAo8bpjkhR"
      },
      "source": [
        "## 5. Exploratory Data Analysis <a class=\"anchor\" id=\"chapter5\"></a>"
      ]
    },
    {
      "cell_type": "markdown",
      "metadata": {
        "id": "y_xspBt9j3eu"
      },
      "source": [
        "*Brief section introduction"
      ]
    },
    {
      "cell_type": "code",
      "execution_count": null,
      "metadata": {
        "id": "O0SD87aFj5lS"
      },
      "outputs": [],
      "source": []
    },
    {
      "cell_type": "markdown",
      "metadata": {
        "id": "8B0CX9YGj3-r"
      },
      "source": [
        "*Insights/comments"
      ]
    },
    {
      "cell_type": "markdown",
      "metadata": {
        "id": "XJSyotdzj4U2"
      },
      "source": [
        "## 6. Feature Engineering <a class=\"anchor\" id=\"chapter6\"></a>"
      ]
    },
    {
      "cell_type": "markdown",
      "metadata": {
        "id": "D_TP5I_ckAQ2"
      },
      "source": [
        "*Brief section introduction"
      ]
    },
    {
      "cell_type": "code",
      "execution_count": null,
      "metadata": {
        "id": "c7vwcpR-kAo1"
      },
      "outputs": [],
      "source": []
    },
    {
      "cell_type": "markdown",
      "metadata": {
        "id": "GCYiiiqikA-6"
      },
      "source": [
        "*Insights"
      ]
    },
    {
      "cell_type": "markdown",
      "metadata": {
        "id": "gl8WSasokBQ8"
      },
      "source": [
        "## 7. Model Development <a class=\"anchor\" id=\"chapter7\"></a>"
      ]
    },
    {
      "cell_type": "markdown",
      "metadata": {
        "id": "Y0K0z0GjkfG5"
      },
      "source": [
        "*Brief section introduction"
      ]
    },
    {
      "cell_type": "code",
      "execution_count": null,
      "metadata": {
        "id": "qMKEJ1XDkfj_"
      },
      "outputs": [],
      "source": []
    },
    {
      "cell_type": "markdown",
      "metadata": {
        "id": "3q_WteiLkgvc"
      },
      "source": [
        "*Insights/comments"
      ]
    },
    {
      "cell_type": "markdown",
      "metadata": {
        "id": "FYzEmyvCkhNd"
      },
      "source": [
        "## 8. Model Performance <a class=\"anchor\" id=\"chapter8\"></a>"
      ]
    },
    {
      "cell_type": "markdown",
      "metadata": {
        "id": "jH4wyHgckual"
      },
      "source": [
        "*Brief section introduction"
      ]
    },
    {
      "cell_type": "code",
      "execution_count": null,
      "metadata": {
        "id": "Cl2aLRNRk7lK"
      },
      "outputs": [],
      "source": []
    },
    {
      "cell_type": "markdown",
      "metadata": {
        "id": "ob0eRfQVk78i"
      },
      "source": [
        "*Insights/comments"
      ]
    },
    {
      "cell_type": "markdown",
      "metadata": {
        "id": "V7FF60LTlHq4"
      },
      "source": [
        "## 9. Forecasting <a class=\"anchor\" id=\"chapter9\"></a>"
      ]
    },
    {
      "cell_type": "markdown",
      "metadata": {
        "id": "8TA5RjKclOT3"
      },
      "source": [
        "*Brief section introduction"
      ]
    },
    {
      "cell_type": "code",
      "execution_count": null,
      "metadata": {
        "id": "BnDYMKgMiBpu"
      },
      "outputs": [],
      "source": []
    },
    {
      "cell_type": "markdown",
      "metadata": {
        "id": "ITpbjHDjlO_f"
      },
      "source": [
        "*Insights/comments"
      ]
    },
    {
      "cell_type": "markdown",
      "metadata": {
        "id": "PdOdMMk2ldDX"
      },
      "source": [
        "## 10. Conclusion and Recommendations <a class=\"anchor\" id=\"chapter10\"></a>"
      ]
    },
    {
      "cell_type": "markdown",
      "metadata": {
        "id": "1vTten3alp1D"
      },
      "source": [
        "*Summarise Insights\n",
        "*Offer recommendations such as sustainable agricultural practices"
      ]
    }
  ],
  "metadata": {
    "colab": {
      "provenance": []
    },
    "kernelspec": {
      "display_name": "Python 3",
      "name": "python3"
    },
    "language_info": {
      "codemirror_mode": {
        "name": "ipython",
        "version": 3
      },
      "file_extension": ".py",
      "mimetype": "text/x-python",
      "name": "python",
      "nbconvert_exporter": "python",
      "pygments_lexer": "ipython3",
      "version": "3.11.9"
    }
  },
  "nbformat": 4,
  "nbformat_minor": 0
}
