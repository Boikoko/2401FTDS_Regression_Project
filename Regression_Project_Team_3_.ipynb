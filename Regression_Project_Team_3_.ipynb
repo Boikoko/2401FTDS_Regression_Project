{
  "cells": [
    {
      "cell_type": "markdown",
      "metadata": {
        "id": "UcomOv2eiK1Q"
      },
      "source": [
        "# Analysing the Impact of Agricultural CO2 emissions on Climate Change"
      ]
    },
    {
      "cell_type": "markdown",
      "metadata": {},
      "source": [
        "\n",
        "<div id=\"agriculture\", align=\"center\">\n",
        "\n",
        "  <img src=\"agriculture.jpg\" width=\"1000\" height=\"500\" alt=\"\"/>\n",
        "\n",
        "</div>"
      ]
    },
    {
      "cell_type": "markdown",
      "metadata": {
        "id": "-bM4495ziTJ2"
      },
      "source": [
        "## Table of Contents"
      ]
    },
    {
      "cell_type": "markdown",
      "metadata": {
        "id": "wjqpyTqwizOq"
      },
      "source": [
        "- <b> [1. Project Overview](#1-project-overview)\n",
        "    - [1.1. Introduction](#11-introduction)\n",
        "    - [1.2. Objective](#12-objective)\n",
        "- <b> [2. Importing Packages](#2-importing-packages)\n",
        "- <b> [3. Data Loading and Inspection](#3-data-loading-and-inspection)\n",
        "- <b> [4. Data Cleaning](#4-data-cleaning)\n",
        "- <b> [5. Exploratory Data Analysis (EDA)](#5-exploratory-data-analysis)\n",
        "- <b> [6. Feature Engineering](#6-feature-engineering)</b>\n",
        "- <b> [7. Model Development](#7-model-development)</b>\n",
        "- <b> [8. Model Performance](#8-model-performance)\n",
        "- <b> [9. Conclusion and Insights](#9-conclusion-and-recommendations)</b>\n"
      ]
    },
    {
      "cell_type": "markdown",
      "metadata": {
        "id": "qGpjdVy9icoy"
      },
      "source": [
        "## 1. Project Overview <a class=\"anchor\" id=\"chapter1\"></a>"
      ]
    },
    {
      "cell_type": "markdown",
      "metadata": {
        "id": "aTNX6Oleiv_m"
      },
      "source": [
        "### 1.1 Introduction <a class=\"anchor\" id=\"section_1_1\"></a>"
      ]
    },
    {
      "cell_type": "markdown",
      "metadata": {
        "id": "EshSOY26nlLq"
      },
      "source": [
        "Climate change is a global issue that has significant ramifications on the environment. It a weather phenomenon defined as the long-term significant shift in weather and temperature conditions. It is caused by greenhouse gas emissions that trap the sun's heat, typically carbon dioxide (CO2) or methane (CH4), which results in global temperature upsurges. Various industries and sectors contribute to global emissions. The agricultural sector is responsible for a third of these emissions as one of the leading sources of CO2 emissions and biodiversity loss. The investigation and comprehension of the effect the sector has on climate change trends is paramount for devising effective mitigation strategies and implementing sustainable agricultural practices. Such strategies and practises may include agroforestry, crop rotation, biodynamic agriculture and Renewanble energy integration. \n",
        "\n",
        "The main objective of this project is to investigate and comprehend the impact of agricultural activities on climate change. This is fulfilled by analysing and predicting the effect of various CO2 emission sources on climate change. Consequently, uncovering underlying patterns and key insights to inform strategy development. The analyses is conducted using data retrieved from the Food and Agriculture Organization (FAO) and the Intergovernmental Panel on Climate Change (IPCC) for various countries/areas. The dataset comprises of the average temperature variations in Celcius (&deg;C), the carbon dioxide emissions from several sources and the total emissions  in kilotonnes (kt) for the year 1990 to 2020. Climate change is represented as the trend in temperature variations observed in an area. A higher variation denotes extreme climate change, whereas a lower variation indicates a stable climate. The variation can either be positive or negative, describing a warming and cooling climate repectively. The CO2 sources are given as:\n",
        "*   Savanna fires \n",
        "*   Forest fires \n",
        "*   Crop Residues\n",
        "*   Rice Cultivation\n",
        "*   Drained organic soils (CO2)\n",
        "*   Pesticides Manufacturing\n",
        "*   Food Transport\n",
        "*   Forestland\n",
        "*   Net Forest conversion\n",
        "*   Food Household Consumption\n",
        "*   Food Retail\n",
        "*   On-farm Electricity Use\n",
        "*   Food Packaging\n",
        "*   Agrifood Systems Waste Disposal\n",
        "*   Food Processing\n",
        "*   Fertilizers Manufacturing\n",
        "*   IPPU\n",
        "*   Manure applied to Soils\n",
        "*   Manure Management\n",
        "*   Fires in organic soils\n",
        "*   Fires in humid tropical forests\n",
        "*   On-farm energy use\n",
        "*   Rural population\n",
        "*   Urban population\n",
        "*   Total Male Population\n",
        "*   Total Female Population\n",
        "\n",
        "A thorough data analysis procedure is employed, followed by regression predictive modelling. The procedure is embedded in the structure of this notebook. The notebook consists of several sections and exploits python's extensive capabilities by utilizing regression, data analysis and visulisation libraries. The first section imports python packages essential for analysis. The data loading section loads and inspects the dataset for errors and/or data consistencies. The subsequent section cleans the dataset by handling the errors and data consistencies found, preparing it for analysis. The exploratory data analysis section draws valuable insights from the dataset using statistical techniques and data visualisations. In the feature engineering section, the dataset is prepared for regression modelling. The predictive model is developed and evaluated in the model development and model performance sections accordingly. The insights gathered from both analyses will highlight the impact of agricultural activities on climate change and will be reviewed in the conclusions and recommendation section. Here suitable mitigation strategies are discussed at length and recommended to the stakeholders for implementation. \n"
      ]
    },
    {
      "cell_type": "markdown",
      "metadata": {
        "id": "mpawJNyZn78N"
      },
      "source": [
        "### 1.2 Objective <a class=\"anchor\" id=\"section_1_2\"></a>"
      ]
    },
    {
      "cell_type": "markdown",
      "metadata": {
        "id": "liDTxx8UoYJG"
      },
      "source": [
        "The key objectives are defined as follows:\n",
        "\n",
        "*   To perform exploratory data analysis on the agricultural emissions dataset.\n",
        "*   To identify the relationship between CO2 emmisions and temperature variations.\n",
        "*   To identify and describe the global trend for climate change.\n",
        "*   To identify emission sources that are significant contributors of CO2 emissions and have major influence on temperature variations.\n",
        "*   To perform regression analysis on the agricultural emissions dataset.\n",
        "*   To develop a regression model to predict temperature variations.\n",
        "*   To offer actionable insights to agricultural stakeholders including policymakers and agricultural organisations.\n"
      ]
    },
    {
      "cell_type": "markdown",
      "metadata": {
        "id": "pPQzL0sgioNe"
      },
      "source": [
        "## 2. Importing Packages <a class=\"anchor\" id=\"chapter2\"></a>"
      ]
    },
    {
      "cell_type": "markdown",
      "metadata": {
        "id": "THMco0LYi6AQ"
      },
      "source": [
        "In this segment, the library packages necessary for data analysis and regression analysis are imported. The main libraries are:\n",
        "*   <b>*Pandas:*</b> Stores data in DataFrames and facilitates data manipulation and analysis.\n",
        "*   <b>*Numpy:*</b> Assists in data manipulation by supporting numerical computations on data array.\n",
        "*   <b>*Matplotlib:*</b> Used to create static and interactive data visualisations.\n",
        "*   <b>*Seaborn:*</b>  Builds upon the matplotlib library by creating visually appealing data visualisations.\n",
        "*   <b>*Sklearn:*</b> Used to build and evaluate machine learning models.\n",
        "\n",
        "The `%matplotlib inline` line ensure the figures generated by matplotlib are placed within the notebook. Additionally, the warnings library is imported for the supression of raised warnings. This is to avoid  unneccessary interruptions during code execution. \n"
      ]
    },
    {
      "cell_type": "code",
      "execution_count": 9,
      "metadata": {
        "id": "Vx2xzoG5i8jS"
      },
      "outputs": [],
      "source": [
        "## Libraries for data manipulation and analysis\n",
        "import numpy as np\n",
        "import pandas as pd\n",
        "import seaborn as sns\n",
        "import matplotlib.pyplot as plt\n",
        "\n",
        "## Libraries for regression analysis\n",
        "from sklearn.model_selection import train_test_split  #Splits dataframe into training and testing set\n",
        "from sklearn.preprocessing import StandardScaler #Scales data\n",
        "\n",
        "from sklearn.linear_model import LinearRegression, Lasso, Ridge, ElasticNet  #Various linear regression model regressors\n",
        "from sklearn.tree import DecisionTreeRegressor #Decision tree regressor\n",
        "\n",
        "from sklearn.ensemble import RandomForestRegressor, BaggingRegressor,  AdaBoostRegressor #Ensemble methods regressors\n",
        "\n",
        "from sklearn.metrics import mean_squared_error, r2_score    #Evaluates model evaluation\n",
        "\n",
        "## Displays output inline\n",
        "%matplotlib inline\n",
        "\n",
        "## Libraries for Handing Warnings\n",
        "import warnings\n",
        "warnings.filterwarnings('ignore')"
      ]
    },
    {
      "cell_type": "markdown",
      "metadata": {
        "id": "xpp1yKGei_kN"
      },
      "source": [
        "## 3. Data Loading and Inspection <a class=\"anchor\" id=\"chapter3\"></a>"
      ]
    },
    {
      "cell_type": "markdown",
      "metadata": {
        "id": "8PLvAA-OjGMf"
      },
      "source": [
        "*Brief section introduction"
      ]
    },
    {
      "cell_type": "code",
      "execution_count": 10,
      "metadata": {
        "id": "Bg72RowCjSa_"
      },
      "outputs": [
        {
          "data": {
            "text/html": [
              "<div>\n",
              "<style scoped>\n",
              "    .dataframe tbody tr th:only-of-type {\n",
              "        vertical-align: middle;\n",
              "    }\n",
              "\n",
              "    .dataframe tbody tr th {\n",
              "        vertical-align: top;\n",
              "    }\n",
              "\n",
              "    .dataframe thead th {\n",
              "        text-align: right;\n",
              "    }\n",
              "</style>\n",
              "<table border=\"1\" class=\"dataframe\">\n",
              "  <thead>\n",
              "    <tr style=\"text-align: right;\">\n",
              "      <th></th>\n",
              "      <th>Area</th>\n",
              "      <th>Year</th>\n",
              "      <th>Savanna fires</th>\n",
              "      <th>Forest fires</th>\n",
              "      <th>Crop Residues</th>\n",
              "      <th>Rice Cultivation</th>\n",
              "      <th>Drained organic soils (CO2)</th>\n",
              "      <th>Pesticides Manufacturing</th>\n",
              "      <th>Food Transport</th>\n",
              "      <th>Forestland</th>\n",
              "      <th>...</th>\n",
              "      <th>Manure Management</th>\n",
              "      <th>Fires in organic soils</th>\n",
              "      <th>Fires in humid tropical forests</th>\n",
              "      <th>On-farm energy use</th>\n",
              "      <th>Rural population</th>\n",
              "      <th>Urban population</th>\n",
              "      <th>Total Population - Male</th>\n",
              "      <th>Total Population - Female</th>\n",
              "      <th>total_emission</th>\n",
              "      <th>Average Temperature °C</th>\n",
              "    </tr>\n",
              "  </thead>\n",
              "  <tbody>\n",
              "    <tr>\n",
              "      <th>0</th>\n",
              "      <td>Afghanistan</td>\n",
              "      <td>1990</td>\n",
              "      <td>14.7237</td>\n",
              "      <td>0.0557</td>\n",
              "      <td>205.6077</td>\n",
              "      <td>686.00</td>\n",
              "      <td>0.0</td>\n",
              "      <td>11.807483</td>\n",
              "      <td>63.1152</td>\n",
              "      <td>-2388.803</td>\n",
              "      <td>...</td>\n",
              "      <td>319.1763</td>\n",
              "      <td>0.0</td>\n",
              "      <td>0.0</td>\n",
              "      <td>NaN</td>\n",
              "      <td>9655167.0</td>\n",
              "      <td>2593947.0</td>\n",
              "      <td>5348387.0</td>\n",
              "      <td>5346409.0</td>\n",
              "      <td>2198.963539</td>\n",
              "      <td>0.536167</td>\n",
              "    </tr>\n",
              "    <tr>\n",
              "      <th>1</th>\n",
              "      <td>Afghanistan</td>\n",
              "      <td>1991</td>\n",
              "      <td>14.7237</td>\n",
              "      <td>0.0557</td>\n",
              "      <td>209.4971</td>\n",
              "      <td>678.16</td>\n",
              "      <td>0.0</td>\n",
              "      <td>11.712073</td>\n",
              "      <td>61.2125</td>\n",
              "      <td>-2388.803</td>\n",
              "      <td>...</td>\n",
              "      <td>342.3079</td>\n",
              "      <td>0.0</td>\n",
              "      <td>0.0</td>\n",
              "      <td>NaN</td>\n",
              "      <td>10230490.0</td>\n",
              "      <td>2763167.0</td>\n",
              "      <td>5372959.0</td>\n",
              "      <td>5372208.0</td>\n",
              "      <td>2323.876629</td>\n",
              "      <td>0.020667</td>\n",
              "    </tr>\n",
              "    <tr>\n",
              "      <th>2</th>\n",
              "      <td>Afghanistan</td>\n",
              "      <td>1992</td>\n",
              "      <td>14.7237</td>\n",
              "      <td>0.0557</td>\n",
              "      <td>196.5341</td>\n",
              "      <td>686.00</td>\n",
              "      <td>0.0</td>\n",
              "      <td>11.712073</td>\n",
              "      <td>53.3170</td>\n",
              "      <td>-2388.803</td>\n",
              "      <td>...</td>\n",
              "      <td>349.1224</td>\n",
              "      <td>0.0</td>\n",
              "      <td>0.0</td>\n",
              "      <td>NaN</td>\n",
              "      <td>10995568.0</td>\n",
              "      <td>2985663.0</td>\n",
              "      <td>6028494.0</td>\n",
              "      <td>6028939.0</td>\n",
              "      <td>2356.304229</td>\n",
              "      <td>-0.259583</td>\n",
              "    </tr>\n",
              "    <tr>\n",
              "      <th>3</th>\n",
              "      <td>Afghanistan</td>\n",
              "      <td>1993</td>\n",
              "      <td>14.7237</td>\n",
              "      <td>0.0557</td>\n",
              "      <td>230.8175</td>\n",
              "      <td>686.00</td>\n",
              "      <td>0.0</td>\n",
              "      <td>11.712073</td>\n",
              "      <td>54.3617</td>\n",
              "      <td>-2388.803</td>\n",
              "      <td>...</td>\n",
              "      <td>352.2947</td>\n",
              "      <td>0.0</td>\n",
              "      <td>0.0</td>\n",
              "      <td>NaN</td>\n",
              "      <td>11858090.0</td>\n",
              "      <td>3237009.0</td>\n",
              "      <td>7003641.0</td>\n",
              "      <td>7000119.0</td>\n",
              "      <td>2368.470529</td>\n",
              "      <td>0.101917</td>\n",
              "    </tr>\n",
              "    <tr>\n",
              "      <th>4</th>\n",
              "      <td>Afghanistan</td>\n",
              "      <td>1994</td>\n",
              "      <td>14.7237</td>\n",
              "      <td>0.0557</td>\n",
              "      <td>242.0494</td>\n",
              "      <td>705.60</td>\n",
              "      <td>0.0</td>\n",
              "      <td>11.712073</td>\n",
              "      <td>53.9874</td>\n",
              "      <td>-2388.803</td>\n",
              "      <td>...</td>\n",
              "      <td>367.6784</td>\n",
              "      <td>0.0</td>\n",
              "      <td>0.0</td>\n",
              "      <td>NaN</td>\n",
              "      <td>12690115.0</td>\n",
              "      <td>3482604.0</td>\n",
              "      <td>7733458.0</td>\n",
              "      <td>7722096.0</td>\n",
              "      <td>2500.768729</td>\n",
              "      <td>0.372250</td>\n",
              "    </tr>\n",
              "  </tbody>\n",
              "</table>\n",
              "<p>5 rows × 31 columns</p>\n",
              "</div>"
            ],
            "text/plain": [
              "          Area  Year  Savanna fires  Forest fires  Crop Residues  \\\n",
              "0  Afghanistan  1990        14.7237        0.0557       205.6077   \n",
              "1  Afghanistan  1991        14.7237        0.0557       209.4971   \n",
              "2  Afghanistan  1992        14.7237        0.0557       196.5341   \n",
              "3  Afghanistan  1993        14.7237        0.0557       230.8175   \n",
              "4  Afghanistan  1994        14.7237        0.0557       242.0494   \n",
              "\n",
              "   Rice Cultivation  Drained organic soils (CO2)  Pesticides Manufacturing  \\\n",
              "0            686.00                          0.0                 11.807483   \n",
              "1            678.16                          0.0                 11.712073   \n",
              "2            686.00                          0.0                 11.712073   \n",
              "3            686.00                          0.0                 11.712073   \n",
              "4            705.60                          0.0                 11.712073   \n",
              "\n",
              "   Food Transport  Forestland  ...  Manure Management  Fires in organic soils  \\\n",
              "0         63.1152   -2388.803  ...           319.1763                     0.0   \n",
              "1         61.2125   -2388.803  ...           342.3079                     0.0   \n",
              "2         53.3170   -2388.803  ...           349.1224                     0.0   \n",
              "3         54.3617   -2388.803  ...           352.2947                     0.0   \n",
              "4         53.9874   -2388.803  ...           367.6784                     0.0   \n",
              "\n",
              "   Fires in humid tropical forests  On-farm energy use  Rural population  \\\n",
              "0                              0.0                 NaN         9655167.0   \n",
              "1                              0.0                 NaN        10230490.0   \n",
              "2                              0.0                 NaN        10995568.0   \n",
              "3                              0.0                 NaN        11858090.0   \n",
              "4                              0.0                 NaN        12690115.0   \n",
              "\n",
              "   Urban population  Total Population - Male  Total Population - Female  \\\n",
              "0         2593947.0                5348387.0                  5346409.0   \n",
              "1         2763167.0                5372959.0                  5372208.0   \n",
              "2         2985663.0                6028494.0                  6028939.0   \n",
              "3         3237009.0                7003641.0                  7000119.0   \n",
              "4         3482604.0                7733458.0                  7722096.0   \n",
              "\n",
              "   total_emission  Average Temperature °C  \n",
              "0     2198.963539                0.536167  \n",
              "1     2323.876629                0.020667  \n",
              "2     2356.304229               -0.259583  \n",
              "3     2368.470529                0.101917  \n",
              "4     2500.768729                0.372250  \n",
              "\n",
              "[5 rows x 31 columns]"
            ]
          },
          "execution_count": 10,
          "metadata": {},
          "output_type": "execute_result"
        }
      ],
      "source": [
        "#reading the dataset into a dataframe\n",
        "df = pd.read_csv('co2_emissions_from_agri.csv')\n",
        "#display first five columns of dataframe\n",
        "df.head()"
      ]
    },
    {
      "cell_type": "markdown",
      "metadata": {},
      "source": [
        "*   **Savanna fires:** Emissions from fires in savanna ecosystems.\n",
        "*   **Forest fires:** Emissions from fires in forested areas.\n",
        "*   **Crop Residues:** Emissions from burning or decomposing leftover plant material after crop harvesting.\n",
        "*   **Rice Cultivation:** Emissions from methane released during rice cultivation.\n",
        "*   **Drained organic soils (CO2):** Emissions from carbon dioxide released when draining organic soils.\n",
        "*   **Pesticides Manufacturing:** Emissions from the production of pesticides.\n",
        "*   **Food Transport:** Emissions from transporting food products.\n",
        "*   **Forestland:** Land covered by forests.\n",
        "*   **Net Forest conversion:** Change in forest area due to deforestation and afforestation.\n",
        "*   **Food Household Consumption:** Emissions from food consumption at the household level.\n",
        "*   **Food Retail:** Emissions from the operation of retail establishments selling food.\n",
        "*   **On-farm Electricity Use:** Electricity consumption on farms.\n",
        "*   **Food Packaging:** Emissions from the production and disposal of food packaging materials.\n",
        "*   **Agrifood Systems Waste Disposal:** Emissions from waste disposal in the agrifood system.\n",
        "*   **Food Processing:** Emissions from processing food products.\n",
        "*   **Fertilizers Manufacturing:** Emissions from the production of fertilizers.\n",
        "*   **IPPU:** Emissions from industrial processes and product use.\n",
        "*   **Manure applied to Soils:** Emissions from applying animal manure to agricultural soils.\n",
        "*   **Manure left on Pasture:** Emissions from animal manure on pasture or grazing land.\n",
        "*   **Manure Management:** Emissions from managing and treating animal manure.\n",
        "*   **Fires in organic soils:** Emissions from fires in organic soils.\n",
        "*   **Fires in humid tropical forests:** Emissions from fires in humid tropical forests.\n",
        "*   **On-farm energy use:** Energy consumption on farms.\n",
        "*   **Rural population:** Number of people living in rural areas.\n",
        "*   **Urban population:** Number of people living in urban areas.\n",
        "*   **Total Population - Male:** Total number of male individuals in the population.\n",
        "*   **Total Population - Female:** Total number of female individuals in the population.\n",
        "*   **total_emission:** Total greenhouse gas emissions from various sources.\n",
        "*   **Average Temperature °C:** The average increasing or decreasing of temperature (by year) in degrees Celsius\n",
        "\n",
        "CO2 is recorded in kilotonnes (kt) and  1 kt represents 1000 kg of CO2."
      ]
    },
    {
      "cell_type": "markdown",
      "metadata": {
        "id": "MQm2s1RjjS22"
      },
      "source": [
        "## 4. Data Cleaning <a class=\"anchor\" id=\"chapter4\"></a>"
      ]
    },
    {
      "cell_type": "markdown",
      "metadata": {
        "id": "lxL06yBsjjJU"
      },
      "source": [
        "*Brief section introduction"
      ]
    },
    {
      "cell_type": "code",
      "execution_count": 11,
      "metadata": {
        "id": "qtSZS-sGjj9n"
      },
      "outputs": [
        {
          "data": {
            "text/html": [
              "<div>\n",
              "<style scoped>\n",
              "    .dataframe tbody tr th:only-of-type {\n",
              "        vertical-align: middle;\n",
              "    }\n",
              "\n",
              "    .dataframe tbody tr th {\n",
              "        vertical-align: top;\n",
              "    }\n",
              "\n",
              "    .dataframe thead th {\n",
              "        text-align: right;\n",
              "    }\n",
              "</style>\n",
              "<table border=\"1\" class=\"dataframe\">\n",
              "  <thead>\n",
              "    <tr style=\"text-align: right;\">\n",
              "      <th></th>\n",
              "      <th>area</th>\n",
              "      <th>year</th>\n",
              "      <th>savanna_fires</th>\n",
              "      <th>forest_fires</th>\n",
              "      <th>crop_residues</th>\n",
              "      <th>rice_cultivation</th>\n",
              "      <th>drained_organic_soils</th>\n",
              "      <th>pesticides_manufacturing</th>\n",
              "      <th>food_transport</th>\n",
              "      <th>forestland</th>\n",
              "      <th>...</th>\n",
              "      <th>manure_management</th>\n",
              "      <th>fires_in_organic_soils</th>\n",
              "      <th>fires_in_humid_tropical_forests</th>\n",
              "      <th>on_farm_energy_use</th>\n",
              "      <th>rural_population</th>\n",
              "      <th>urban_population</th>\n",
              "      <th>male_population</th>\n",
              "      <th>female_population</th>\n",
              "      <th>total_emission</th>\n",
              "      <th>average_temperature_change</th>\n",
              "    </tr>\n",
              "  </thead>\n",
              "  <tbody>\n",
              "    <tr>\n",
              "      <th>0</th>\n",
              "      <td>Afghanistan</td>\n",
              "      <td>1990</td>\n",
              "      <td>14.7237</td>\n",
              "      <td>0.0557</td>\n",
              "      <td>205.6077</td>\n",
              "      <td>686.00</td>\n",
              "      <td>0.0</td>\n",
              "      <td>11.807483</td>\n",
              "      <td>63.1152</td>\n",
              "      <td>-2388.803</td>\n",
              "      <td>...</td>\n",
              "      <td>319.1763</td>\n",
              "      <td>0.0</td>\n",
              "      <td>0.0</td>\n",
              "      <td>NaN</td>\n",
              "      <td>9655167.0</td>\n",
              "      <td>2593947.0</td>\n",
              "      <td>5348387.0</td>\n",
              "      <td>5346409.0</td>\n",
              "      <td>2198.963539</td>\n",
              "      <td>0.536167</td>\n",
              "    </tr>\n",
              "    <tr>\n",
              "      <th>1</th>\n",
              "      <td>Afghanistan</td>\n",
              "      <td>1991</td>\n",
              "      <td>14.7237</td>\n",
              "      <td>0.0557</td>\n",
              "      <td>209.4971</td>\n",
              "      <td>678.16</td>\n",
              "      <td>0.0</td>\n",
              "      <td>11.712073</td>\n",
              "      <td>61.2125</td>\n",
              "      <td>-2388.803</td>\n",
              "      <td>...</td>\n",
              "      <td>342.3079</td>\n",
              "      <td>0.0</td>\n",
              "      <td>0.0</td>\n",
              "      <td>NaN</td>\n",
              "      <td>10230490.0</td>\n",
              "      <td>2763167.0</td>\n",
              "      <td>5372959.0</td>\n",
              "      <td>5372208.0</td>\n",
              "      <td>2323.876629</td>\n",
              "      <td>0.020667</td>\n",
              "    </tr>\n",
              "    <tr>\n",
              "      <th>2</th>\n",
              "      <td>Afghanistan</td>\n",
              "      <td>1992</td>\n",
              "      <td>14.7237</td>\n",
              "      <td>0.0557</td>\n",
              "      <td>196.5341</td>\n",
              "      <td>686.00</td>\n",
              "      <td>0.0</td>\n",
              "      <td>11.712073</td>\n",
              "      <td>53.3170</td>\n",
              "      <td>-2388.803</td>\n",
              "      <td>...</td>\n",
              "      <td>349.1224</td>\n",
              "      <td>0.0</td>\n",
              "      <td>0.0</td>\n",
              "      <td>NaN</td>\n",
              "      <td>10995568.0</td>\n",
              "      <td>2985663.0</td>\n",
              "      <td>6028494.0</td>\n",
              "      <td>6028939.0</td>\n",
              "      <td>2356.304229</td>\n",
              "      <td>-0.259583</td>\n",
              "    </tr>\n",
              "    <tr>\n",
              "      <th>3</th>\n",
              "      <td>Afghanistan</td>\n",
              "      <td>1993</td>\n",
              "      <td>14.7237</td>\n",
              "      <td>0.0557</td>\n",
              "      <td>230.8175</td>\n",
              "      <td>686.00</td>\n",
              "      <td>0.0</td>\n",
              "      <td>11.712073</td>\n",
              "      <td>54.3617</td>\n",
              "      <td>-2388.803</td>\n",
              "      <td>...</td>\n",
              "      <td>352.2947</td>\n",
              "      <td>0.0</td>\n",
              "      <td>0.0</td>\n",
              "      <td>NaN</td>\n",
              "      <td>11858090.0</td>\n",
              "      <td>3237009.0</td>\n",
              "      <td>7003641.0</td>\n",
              "      <td>7000119.0</td>\n",
              "      <td>2368.470529</td>\n",
              "      <td>0.101917</td>\n",
              "    </tr>\n",
              "    <tr>\n",
              "      <th>4</th>\n",
              "      <td>Afghanistan</td>\n",
              "      <td>1994</td>\n",
              "      <td>14.7237</td>\n",
              "      <td>0.0557</td>\n",
              "      <td>242.0494</td>\n",
              "      <td>705.60</td>\n",
              "      <td>0.0</td>\n",
              "      <td>11.712073</td>\n",
              "      <td>53.9874</td>\n",
              "      <td>-2388.803</td>\n",
              "      <td>...</td>\n",
              "      <td>367.6784</td>\n",
              "      <td>0.0</td>\n",
              "      <td>0.0</td>\n",
              "      <td>NaN</td>\n",
              "      <td>12690115.0</td>\n",
              "      <td>3482604.0</td>\n",
              "      <td>7733458.0</td>\n",
              "      <td>7722096.0</td>\n",
              "      <td>2500.768729</td>\n",
              "      <td>0.372250</td>\n",
              "    </tr>\n",
              "  </tbody>\n",
              "</table>\n",
              "<p>5 rows × 31 columns</p>\n",
              "</div>"
            ],
            "text/plain": [
              "          area  year  savanna_fires  forest_fires  crop_residues  \\\n",
              "0  Afghanistan  1990        14.7237        0.0557       205.6077   \n",
              "1  Afghanistan  1991        14.7237        0.0557       209.4971   \n",
              "2  Afghanistan  1992        14.7237        0.0557       196.5341   \n",
              "3  Afghanistan  1993        14.7237        0.0557       230.8175   \n",
              "4  Afghanistan  1994        14.7237        0.0557       242.0494   \n",
              "\n",
              "   rice_cultivation  drained_organic_soils  pesticides_manufacturing  \\\n",
              "0            686.00                    0.0                 11.807483   \n",
              "1            678.16                    0.0                 11.712073   \n",
              "2            686.00                    0.0                 11.712073   \n",
              "3            686.00                    0.0                 11.712073   \n",
              "4            705.60                    0.0                 11.712073   \n",
              "\n",
              "   food_transport  forestland  ...  manure_management  fires_in_organic_soils  \\\n",
              "0         63.1152   -2388.803  ...           319.1763                     0.0   \n",
              "1         61.2125   -2388.803  ...           342.3079                     0.0   \n",
              "2         53.3170   -2388.803  ...           349.1224                     0.0   \n",
              "3         54.3617   -2388.803  ...           352.2947                     0.0   \n",
              "4         53.9874   -2388.803  ...           367.6784                     0.0   \n",
              "\n",
              "   fires_in_humid_tropical_forests  on_farm_energy_use  rural_population  \\\n",
              "0                              0.0                 NaN         9655167.0   \n",
              "1                              0.0                 NaN        10230490.0   \n",
              "2                              0.0                 NaN        10995568.0   \n",
              "3                              0.0                 NaN        11858090.0   \n",
              "4                              0.0                 NaN        12690115.0   \n",
              "\n",
              "   urban_population  male_population  female_population  total_emission  \\\n",
              "0         2593947.0        5348387.0          5346409.0     2198.963539   \n",
              "1         2763167.0        5372959.0          5372208.0     2323.876629   \n",
              "2         2985663.0        6028494.0          6028939.0     2356.304229   \n",
              "3         3237009.0        7003641.0          7000119.0     2368.470529   \n",
              "4         3482604.0        7733458.0          7722096.0     2500.768729   \n",
              "\n",
              "   average_temperature_change  \n",
              "0                    0.536167  \n",
              "1                    0.020667  \n",
              "2                   -0.259583  \n",
              "3                    0.101917  \n",
              "4                    0.372250  \n",
              "\n",
              "[5 rows x 31 columns]"
            ]
          },
          "execution_count": 11,
          "metadata": {},
          "output_type": "execute_result"
        }
      ],
      "source": [
        "#renaming features to adhere to python naming standards\n",
        "df= df.rename(columns = {'Average Temperature °C' : 'average_temperature_change', 'Total Population - Female' : 'female_population', 'Total Population - Male':'male_population', 'Urban population': 'urban_population', 'Rural population':'rural_population', 'On-farm energy use' : 'on_farm_energy_use' , 'Fires in humid tropical forests' : 'fires_in_humid_tropical_forests'\n",
        "                         ,'Fires in organic soils' : 'fires_in_organic_soils', 'Manure Management' : 'manure_management', 'Manure left on Pasture': 'manure_left_on_pasture', 'Manure applied to Soils' : 'manure_applied_to_soils','Fertilizers Manufacturing' : 'fertilizers_manufacturing', 'Food Processing' : 'food_processing', 'Agrifood Systems Waste Disposal' : 'agrifood_systems_waste_disposal'\n",
        "                         ,'Food Packaging' :'food_packaging', 'On-farm Electricity Use': 'on_farm_electricity_use', 'Food Retail' : 'food_retail' , 'Food Household Consumption' : 'food_household_consumption' , 'Net Forest conversion' : 'net_forest_conversion', 'Forestland': 'forestland', 'Food Transport' : 'food_transport', 'Pesticides Manufacturing' : 'pesticides_manufacturing'\n",
        "                         ,'Drained organic soils (CO2)': 'drained_organic_soils', 'Rice Cultivation' : 'rice_cultivation', 'Crop Residues':'crop_residues', 'Forest fires':'forest_fires', 'Savanna fires': 'savanna_fires', 'Area' :'area', 'Year' : 'year'})\n",
        "\n",
        "df.head()                     "
      ]
    },
    {
      "cell_type": "code",
      "execution_count": 12,
      "metadata": {},
      "outputs": [
        {
          "name": "stdout",
          "output_type": "stream",
          "text": [
            "Null Values in each column:\n",
            "area                                  0\n",
            "year                                  0\n",
            "savanna_fires                        31\n",
            "forest_fires                         93\n",
            "crop_residues                      1389\n",
            "rice_cultivation                      0\n",
            "drained_organic_soils                 0\n",
            "pesticides_manufacturing              0\n",
            "food_transport                        0\n",
            "forestland                          493\n",
            "net_forest_conversion               493\n",
            "food_household_consumption          473\n",
            "food_retail                           0\n",
            "on_farm_electricity_use               0\n",
            "food_packaging                        0\n",
            "agrifood_systems_waste_disposal       0\n",
            "food_processing                       0\n",
            "fertilizers_manufacturing             0\n",
            "IPPU                                743\n",
            "manure_applied_to_soils             928\n",
            "manure_left_on_pasture                0\n",
            "manure_management                   928\n",
            "fires_in_organic_soils                0\n",
            "fires_in_humid_tropical_forests     155\n",
            "on_farm_energy_use                  956\n",
            "rural_population                      0\n",
            "urban_population                      0\n",
            "male_population                       0\n",
            "female_population                     0\n",
            "total_emission                        0\n",
            "average_temperature_change            0\n",
            "dtype: int64\n"
          ]
        }
      ],
      "source": [
        "#Checking for null values per column\n",
        "print(\"Null Values in each column:\")\n",
        "print(df.isnull().sum())"
      ]
    },
    {
      "cell_type": "code",
      "execution_count": 13,
      "metadata": {},
      "outputs": [],
      "source": [
        "#Replacing Missing Values with zero\n",
        "df[['savanna_fires', 'forest_fires', 'crop_residues', 'forestland', 'net_forest_conversion', 'food_household_consumption', 'IPPU','manure_applied_to_soils','manure_management', 'fires_in_humid_tropical_forests', 'on_farm_energy_use']] = df[['savanna_fires', 'forest_fires', 'crop_residues', 'forestland', 'net_forest_conversion', 'food_household_consumption', 'IPPU','manure_applied_to_soils','manure_management', 'fires_in_humid_tropical_forests', 'on_farm_energy_use']].fillna(0)"
      ]
    },
    {
      "cell_type": "markdown",
      "metadata": {},
      "source": [
        "The empty cells are specific to specific areas, hence their replacement with zero"
      ]
    },
    {
      "cell_type": "code",
      "execution_count": 14,
      "metadata": {},
      "outputs": [
        {
          "name": "stdout",
          "output_type": "stream",
          "text": [
            "Number of duplicated rows: \n",
            "0\n"
          ]
        }
      ],
      "source": [
        "#Checking for duplicates\n",
        "print(\"Number of duplicated rows: \")\n",
        "print(df.duplicated().sum())"
      ]
    },
    {
      "cell_type": "markdown",
      "metadata": {
        "id": "uRkm9EsQjkRP"
      },
      "source": [
        "*Insights/comments"
      ]
    },
    {
      "cell_type": "markdown",
      "metadata": {
        "id": "somAo8bpjkhR"
      },
      "source": [
        "## 5. Exploratory Data Analysis <a class=\"anchor\" id=\"chapter5\"></a>"
      ]
    },
    {
      "cell_type": "markdown",
      "metadata": {
        "id": "y_xspBt9j3eu"
      },
      "source": [
        "*Brief section introduction"
      ]
    },
    {
      "cell_type": "code",
      "execution_count": null,
      "metadata": {
        "id": "O0SD87aFj5lS"
      },
      "outputs": [],
      "source": []
    },
    {
      "cell_type": "markdown",
      "metadata": {
        "id": "8B0CX9YGj3-r"
      },
      "source": [
        "*Insights/comments"
      ]
    },
    {
      "cell_type": "markdown",
      "metadata": {
        "id": "XJSyotdzj4U2"
      },
      "source": [
        "## 6. Feature Engineering <a class=\"anchor\" id=\"chapter6\"></a>"
      ]
    },
    {
      "cell_type": "markdown",
      "metadata": {
        "id": "D_TP5I_ckAQ2"
      },
      "source": [
        "*Brief section introduction"
      ]
    },
    {
      "cell_type": "code",
      "execution_count": null,
      "metadata": {
        "id": "c7vwcpR-kAo1"
      },
      "outputs": [],
      "source": []
    },
    {
      "cell_type": "markdown",
      "metadata": {
        "id": "GCYiiiqikA-6"
      },
      "source": [
        "*Insights"
      ]
    },
    {
      "cell_type": "markdown",
      "metadata": {
        "id": "gl8WSasokBQ8"
      },
      "source": [
        "## 7. Model Development <a class=\"anchor\" id=\"chapter7\"></a>"
      ]
    },
    {
      "cell_type": "markdown",
      "metadata": {
        "id": "Y0K0z0GjkfG5"
      },
      "source": [
        "*Brief section introduction"
      ]
    },
    {
      "cell_type": "code",
      "execution_count": null,
      "metadata": {
        "id": "qMKEJ1XDkfj_"
      },
      "outputs": [],
      "source": []
    },
    {
      "cell_type": "markdown",
      "metadata": {
        "id": "3q_WteiLkgvc"
      },
      "source": [
        "*Insights/comments"
      ]
    },
    {
      "cell_type": "markdown",
      "metadata": {
        "id": "FYzEmyvCkhNd"
      },
      "source": [
        "## 8. Model Performance <a class=\"anchor\" id=\"chapter8\"></a>"
      ]
    },
    {
      "cell_type": "markdown",
      "metadata": {
        "id": "jH4wyHgckual"
      },
      "source": [
        "*Brief section introduction"
      ]
    },
    {
      "cell_type": "code",
      "execution_count": null,
      "metadata": {
        "id": "Cl2aLRNRk7lK"
      },
      "outputs": [],
      "source": []
    },
    {
      "cell_type": "markdown",
      "metadata": {
        "id": "ob0eRfQVk78i"
      },
      "source": [
        "*Insights/comments"
      ]
    },
    {
      "cell_type": "markdown",
      "metadata": {
        "id": "PdOdMMk2ldDX"
      },
      "source": [
        "## 9. Conclusion and Recommendations <a class=\"anchor\" id=\"chapter9\"></a>"
      ]
    },
    {
      "cell_type": "markdown",
      "metadata": {
        "id": "1vTten3alp1D"
      },
      "source": [
        "*Summarise Insights\n",
        "*Offer recommendations such as sustainable agricultural practices"
      ]
    }
  ],
  "metadata": {
    "colab": {
      "provenance": []
    },
    "kernelspec": {
      "display_name": "Python 3",
      "name": "python3"
    },
    "language_info": {
      "codemirror_mode": {
        "name": "ipython",
        "version": 3
      },
      "file_extension": ".py",
      "mimetype": "text/x-python",
      "name": "python",
      "nbconvert_exporter": "python",
      "pygments_lexer": "ipython3",
      "version": "3.11.9"
    }
  },
  "nbformat": 4,
  "nbformat_minor": 0
}
