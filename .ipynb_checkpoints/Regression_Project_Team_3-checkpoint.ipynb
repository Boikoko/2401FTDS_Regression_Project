{
 "cells": [
  {
   "cell_type": "markdown",
   "metadata": {
    "id": "UcomOv2eiK1Q"
   },
   "source": [
    "# [Project Title]"
   ]
  },
  {
   "cell_type": "markdown",
   "metadata": {
    "id": "-bM4495ziTJ2"
   },
   "source": [
    "## Table of Contents"
   ]
  },
  {
   "cell_type": "markdown",
   "metadata": {
    "id": "wjqpyTqwizOq"
   },
   "source": [
    "- <b> [1. Project Overview](#chapter1)\n",
    "    - [1.1. Introduction](#section_1_1)\n",
    "    - [1.2. Objective](#section_1_2)\n",
    "- <b> [2. Importing Packages](#chapter2)\n",
    "- <b> [3. Data Loading and Inspection](#chapter3)\n",
    "- <b> [4. Data Cleaning](#chapter4)\n",
    "- <b> [5. Exploratory Data Analysis (EDA)](#chapter5)\n",
    "- <b> [6. Feature Engineering](#chapter6)</b>\n",
    "- <b> [7. Model Development](#chapter7)</b>\n",
    "- <b> [8. Model Performance](#chapter8)\n",
    "- <b> [9. Conclusion and Insights](#chapter10)</b>\n"
   ]
  },
  {
   "cell_type": "markdown",
   "metadata": {
    "id": "qGpjdVy9icoy"
   },
   "source": [
    "##1. Project Overview <a class=\"anchor\" id=\"chapter1\"></a>"
   ]
  },
  {
   "cell_type": "markdown",
   "metadata": {
    "id": "aTNX6Oleiv_m"
   },
   "source": [
    "### 1.1 Introduction "
   ]
  },
  {
   "cell_type": "markdown",
   "metadata": {
    "id": "EshSOY26nlLq"
   },
   "source": [
    "\n",
    "\n",
    "*   Brief background on the climate change and agricultural activities\n",
    "*   State project aim\n",
    "*   State key questions??\n",
    "*   State dataset origin and describe features\n",
    "*   Describe notebook structure\n",
    "*   Brief description of analysis methodology\n",
    "\n"
   ]
  },
  {
   "cell_type": "markdown",
   "metadata": {
    "id": "mpawJNyZn78N"
   },
   "source": [
    "### 1.2 Objective "
   ]
  },
  {
   "cell_type": "markdown",
   "metadata": {
    "id": "liDTxx8UoYJG"
   },
   "source": [
    "\n",
    "*   Perform exploratory data analysis on the agricultural dataset??\n",
    "*   Identify the relationship between CO2 emmisions and climate change or temperature variations??\n",
    "*   Identify emission sources that are significant contributors of CO2 emissions and have major influence on temperature variations??\n",
    "\n",
    "*   Develop a regression model to predict temperature variations??\n",
    "\n"
   ]
  },
  {
   "cell_type": "markdown",
   "metadata": {
    "id": "pPQzL0sgioNe"
   },
   "source": [
    "### 2. Importing Packages "
   ]
  },
  {
   "cell_type": "markdown",
   "metadata": {},
   "source": [
    "##2. Importing Packages <a class=\"anchor\" id=\"chapter2\"></a>"
   ]
  },
  {
   "cell_type": "code",
   "execution_count": null,
   "metadata": {},
   "outputs": [],
   "source": [
    "# Libraries for data manipulation and analysis\n",
    "import numpy as np\n",
    "import pandas as pd\n",
    "import seaborn as sns\n",
    "import matplotlib.pyplot as plt\n",
    "\n",
    "# Libraries for regression analysis\n",
    "import statsmodels.api as sm\n",
    "from sklearn.linear_model import LinearRegression\n",
    "from sklearn.model_selection import train_test_split\n",
    "from sklearn.metrics import mean_squared_error, r2_score\n",
    "\n",
    "# Displays output inline\n",
    "%matplotlib inline\n",
    "\n",
    "# Libraries for Handing Warnings\n",
    "import warnings\n",
    "warnings.filterwarnings('ignore')"
   ]
  },
  {
   "cell_type": "markdown",
   "metadata": {
    "id": "xpp1yKGei_kN"
   },
   "source": [
    "### 3. Data Loading and Inspection <a class=\"anchor\" id=\"chapter3\"></a>"
   ]
  },
  {
   "cell_type": "markdown",
   "metadata": {},
   "source": [
    "##3. Data Loading and Inspection <a class=\"anchor\" id=\"chapter3\"></a>"
   ]
  },
  {
   "cell_type": "code",
   "execution_count": 3,
   "metadata": {
    "id": "Bg72RowCjSa_"
   },
   "outputs": [
    {
     "data": {
      "text/html": [
       "<div>\n",
       "<style scoped>\n",
       "    .dataframe tbody tr th:only-of-type {\n",
       "        vertical-align: middle;\n",
       "    }\n",
       "\n",
       "    .dataframe tbody tr th {\n",
       "        vertical-align: top;\n",
       "    }\n",
       "\n",
       "    .dataframe thead th {\n",
       "        text-align: right;\n",
       "    }\n",
       "</style>\n",
       "<table border=\"1\" class=\"dataframe\">\n",
       "  <thead>\n",
       "    <tr style=\"text-align: right;\">\n",
       "      <th></th>\n",
       "      <th>Area</th>\n",
       "      <th>Year</th>\n",
       "      <th>Savanna fires</th>\n",
       "      <th>Forest fires</th>\n",
       "      <th>Crop Residues</th>\n",
       "      <th>Rice Cultivation</th>\n",
       "      <th>Drained organic soils (CO2)</th>\n",
       "      <th>Pesticides Manufacturing</th>\n",
       "      <th>Food Transport</th>\n",
       "      <th>Forestland</th>\n",
       "      <th>...</th>\n",
       "      <th>Manure Management</th>\n",
       "      <th>Fires in organic soils</th>\n",
       "      <th>Fires in humid tropical forests</th>\n",
       "      <th>On-farm energy use</th>\n",
       "      <th>Rural population</th>\n",
       "      <th>Urban population</th>\n",
       "      <th>Total Population - Male</th>\n",
       "      <th>Total Population - Female</th>\n",
       "      <th>total_emission</th>\n",
       "      <th>Average Temperature °C</th>\n",
       "    </tr>\n",
       "  </thead>\n",
       "  <tbody>\n",
       "    <tr>\n",
       "      <th>0</th>\n",
       "      <td>Afghanistan</td>\n",
       "      <td>1990</td>\n",
       "      <td>14.7237</td>\n",
       "      <td>0.0557</td>\n",
       "      <td>205.6077</td>\n",
       "      <td>686.00</td>\n",
       "      <td>0.0</td>\n",
       "      <td>11.807483</td>\n",
       "      <td>63.1152</td>\n",
       "      <td>-2388.803</td>\n",
       "      <td>...</td>\n",
       "      <td>319.1763</td>\n",
       "      <td>0.0</td>\n",
       "      <td>0.0</td>\n",
       "      <td>NaN</td>\n",
       "      <td>9655167.0</td>\n",
       "      <td>2593947.0</td>\n",
       "      <td>5348387.0</td>\n",
       "      <td>5346409.0</td>\n",
       "      <td>2198.963539</td>\n",
       "      <td>0.536167</td>\n",
       "    </tr>\n",
       "    <tr>\n",
       "      <th>1</th>\n",
       "      <td>Afghanistan</td>\n",
       "      <td>1991</td>\n",
       "      <td>14.7237</td>\n",
       "      <td>0.0557</td>\n",
       "      <td>209.4971</td>\n",
       "      <td>678.16</td>\n",
       "      <td>0.0</td>\n",
       "      <td>11.712073</td>\n",
       "      <td>61.2125</td>\n",
       "      <td>-2388.803</td>\n",
       "      <td>...</td>\n",
       "      <td>342.3079</td>\n",
       "      <td>0.0</td>\n",
       "      <td>0.0</td>\n",
       "      <td>NaN</td>\n",
       "      <td>10230490.0</td>\n",
       "      <td>2763167.0</td>\n",
       "      <td>5372959.0</td>\n",
       "      <td>5372208.0</td>\n",
       "      <td>2323.876629</td>\n",
       "      <td>0.020667</td>\n",
       "    </tr>\n",
       "    <tr>\n",
       "      <th>2</th>\n",
       "      <td>Afghanistan</td>\n",
       "      <td>1992</td>\n",
       "      <td>14.7237</td>\n",
       "      <td>0.0557</td>\n",
       "      <td>196.5341</td>\n",
       "      <td>686.00</td>\n",
       "      <td>0.0</td>\n",
       "      <td>11.712073</td>\n",
       "      <td>53.3170</td>\n",
       "      <td>-2388.803</td>\n",
       "      <td>...</td>\n",
       "      <td>349.1224</td>\n",
       "      <td>0.0</td>\n",
       "      <td>0.0</td>\n",
       "      <td>NaN</td>\n",
       "      <td>10995568.0</td>\n",
       "      <td>2985663.0</td>\n",
       "      <td>6028494.0</td>\n",
       "      <td>6028939.0</td>\n",
       "      <td>2356.304229</td>\n",
       "      <td>-0.259583</td>\n",
       "    </tr>\n",
       "    <tr>\n",
       "      <th>3</th>\n",
       "      <td>Afghanistan</td>\n",
       "      <td>1993</td>\n",
       "      <td>14.7237</td>\n",
       "      <td>0.0557</td>\n",
       "      <td>230.8175</td>\n",
       "      <td>686.00</td>\n",
       "      <td>0.0</td>\n",
       "      <td>11.712073</td>\n",
       "      <td>54.3617</td>\n",
       "      <td>-2388.803</td>\n",
       "      <td>...</td>\n",
       "      <td>352.2947</td>\n",
       "      <td>0.0</td>\n",
       "      <td>0.0</td>\n",
       "      <td>NaN</td>\n",
       "      <td>11858090.0</td>\n",
       "      <td>3237009.0</td>\n",
       "      <td>7003641.0</td>\n",
       "      <td>7000119.0</td>\n",
       "      <td>2368.470529</td>\n",
       "      <td>0.101917</td>\n",
       "    </tr>\n",
       "    <tr>\n",
       "      <th>4</th>\n",
       "      <td>Afghanistan</td>\n",
       "      <td>1994</td>\n",
       "      <td>14.7237</td>\n",
       "      <td>0.0557</td>\n",
       "      <td>242.0494</td>\n",
       "      <td>705.60</td>\n",
       "      <td>0.0</td>\n",
       "      <td>11.712073</td>\n",
       "      <td>53.9874</td>\n",
       "      <td>-2388.803</td>\n",
       "      <td>...</td>\n",
       "      <td>367.6784</td>\n",
       "      <td>0.0</td>\n",
       "      <td>0.0</td>\n",
       "      <td>NaN</td>\n",
       "      <td>12690115.0</td>\n",
       "      <td>3482604.0</td>\n",
       "      <td>7733458.0</td>\n",
       "      <td>7722096.0</td>\n",
       "      <td>2500.768729</td>\n",
       "      <td>0.372250</td>\n",
       "    </tr>\n",
       "  </tbody>\n",
       "</table>\n",
       "<p>5 rows × 31 columns</p>\n",
       "</div>"
      ],
      "text/plain": [
       "          Area  Year  Savanna fires  Forest fires  Crop Residues  \\\n",
       "0  Afghanistan  1990        14.7237        0.0557       205.6077   \n",
       "1  Afghanistan  1991        14.7237        0.0557       209.4971   \n",
       "2  Afghanistan  1992        14.7237        0.0557       196.5341   \n",
       "3  Afghanistan  1993        14.7237        0.0557       230.8175   \n",
       "4  Afghanistan  1994        14.7237        0.0557       242.0494   \n",
       "\n",
       "   Rice Cultivation  Drained organic soils (CO2)  Pesticides Manufacturing  \\\n",
       "0            686.00                          0.0                 11.807483   \n",
       "1            678.16                          0.0                 11.712073   \n",
       "2            686.00                          0.0                 11.712073   \n",
       "3            686.00                          0.0                 11.712073   \n",
       "4            705.60                          0.0                 11.712073   \n",
       "\n",
       "   Food Transport  Forestland  ...  Manure Management  Fires in organic soils  \\\n",
       "0         63.1152   -2388.803  ...           319.1763                     0.0   \n",
       "1         61.2125   -2388.803  ...           342.3079                     0.0   \n",
       "2         53.3170   -2388.803  ...           349.1224                     0.0   \n",
       "3         54.3617   -2388.803  ...           352.2947                     0.0   \n",
       "4         53.9874   -2388.803  ...           367.6784                     0.0   \n",
       "\n",
       "   Fires in humid tropical forests  On-farm energy use  Rural population  \\\n",
       "0                              0.0                 NaN         9655167.0   \n",
       "1                              0.0                 NaN        10230490.0   \n",
       "2                              0.0                 NaN        10995568.0   \n",
       "3                              0.0                 NaN        11858090.0   \n",
       "4                              0.0                 NaN        12690115.0   \n",
       "\n",
       "   Urban population  Total Population - Male  Total Population - Female  \\\n",
       "0         2593947.0                5348387.0                  5346409.0   \n",
       "1         2763167.0                5372959.0                  5372208.0   \n",
       "2         2985663.0                6028494.0                  6028939.0   \n",
       "3         3237009.0                7003641.0                  7000119.0   \n",
       "4         3482604.0                7733458.0                  7722096.0   \n",
       "\n",
       "   total_emission  Average Temperature °C  \n",
       "0     2198.963539                0.536167  \n",
       "1     2323.876629                0.020667  \n",
       "2     2356.304229               -0.259583  \n",
       "3     2368.470529                0.101917  \n",
       "4     2500.768729                0.372250  \n",
       "\n",
       "[5 rows x 31 columns]"
      ]
     },
     "execution_count": 3,
     "metadata": {},
     "output_type": "execute_result"
    }
   ],
   "source": [
    "import pandas as pd\n",
    "\n",
    "#reading the dataset into a dataframe\n",
    "df = pd.read_csv('co2_emissions_from_agri.csv')\n",
    "#display first five columns of dataframe\n",
    "df.head()\n"
   ]
  },
  {
   "cell_type": "markdown",
   "metadata": {},
   "source": [
    "* **Savanna fires:** Emissions from fires in savanna ecosystems.\n",
    "* **Forest fires:** Emissions from fires in forested areas.\n",
    "* **Crop Residues:** Emissions from burning or decomposing leftover plant material after crop harvesting.\n",
    "* **Rice Cultivation:** Emissions from methane released during rice cultivation.\n",
    "* **Drained organic soils (CO2):** Emissions from carbon dioxide released when draining organic soils.\n",
    "* **Pesticides Manufacturing:** Emissions from the production of pesticides.\n",
    "* **Food Transport:** Emissions from transporting food products.\n",
    "* **Forestland:** Land covered by forests.\n",
    "* **Net Forest conversion:** Change in forest area due to deforestation and afforestation.\n",
    "* **Food Household Consumption:** Emissions from food consumption at the household level.\n",
    "* **Food Retail:** Emissions from the operation of retail establishments selling food.\n",
    "* **On-farm Electricity Use:** Electricity consumption on farms.\n",
    "* **Food Packaging:** Emissions from the production and disposal of food packaging materials.\n",
    "* **Agrifood Systems Waste Disposal:** Emissions from waste disposal in the agrifood system.\n",
    "* **Food Processing:** Emissions from processing food products.\n",
    "* **Fertilizers Manufacturing:** Emissions from the production of fertilizers.\n",
    "* **IPPU:** Emissions from industrial processes and product use.\n",
    "* **Manure applied to Soils:** Emissions from applying animal manure to agricultural soils.\n",
    "* **Manure left on Pasture:** Emissions from animal manure on pasture or grazing land.\n",
    "* **Manure Management:** Emissions from managing and treating animal manure.\n",
    "* **Fires in organic soils:** Emissions from fires in organic soils.\n",
    "* **Fires in humid tropical forests:** Emissions from fires in humid tropical forests.\n",
    "* **On-farm energy use:** Energy consumption on farms.\n",
    "* **Rural population:** Number of people living in rural areas.\n",
    "* **Urban population:** Number of people living in urban areas.\n",
    "* **Total Population - Male:** Total number of male individuals in the population.\n",
    "* **Total Population - Female:** Total number of female individuals in the population.\n",
    "* **total_emission:** Total greenhouse gas emissions from various sources.\n",
    "* **Average Temperature °C:** The average increasing or decreasing of temperature (by year) in degrees Celsius\n",
    "\n",
    "**CO2 is recorded in kilotonnes (kt) and  1 kt represents 1000 kg of CO2.**"
   ]
  },
  {
   "cell_type": "markdown",
   "metadata": {},
   "source": [
    "### 4. Data Cleaning"
   ]
  },
  {
   "cell_type": "markdown",
   "metadata": {
    "id": "MQm2s1RjjS22"
   },
   "source": [
    "##4. Data Cleaning <a class=\"anchor\" id=\"chapter4\"></a>"
   ]
  },
  {
   "cell_type": "code",
   "execution_count": 20,
   "metadata": {
    "id": "lxL06yBsjjJU"
   },
   "outputs": [],
   "source": [
    "#renaming features to adhere to python naming standards\n",
    "df= df.rename(columns = {'Average Temperature °C' : 'average_temperature_change', 'Total Population - Female' : 'female_population', 'Total Population - Male':'male_population', 'Urban population': 'urban_population', 'Rural population':'rural_population', 'On-farm energy use' : 'on_farm_energy_use' , 'Fires in humid tropical forests' : 'fires_in_humid_tropical_forests'\n",
    "                         ,'Fires in organic soils' : 'fires_in_organic_soils', 'Manure Management' : 'manure_management', 'Manure left on Pasture': 'manure_left_on_pasture', 'Manure applied to Soils' : 'manure_applied_to_soils','Fertilizers Manufacturing' : 'fertilizers_manufacturing', 'Food Processing' : 'food_processing', 'Agrifood Systems Waste Disposal' : 'agrifood_systems_waste_disposal'\n",
    "                         ,'Food Packaging' :'food_packaging', 'On-farm Electricity Use': 'on_farm_electricity_use', 'Food Retail' : 'food_retail' , 'Food Household Consumption' : 'food_household_consumption' , 'Net Forest conversion' : 'net_forest_conversion', 'Forestland': 'forestland', 'Food Transport' : 'food_transport', 'Pesticides Manufacturing' : 'pesticides_manufacturing'\n",
    "                         ,'Drained organic soils (CO2)': 'drained_organic_soils', 'Rice Cultivation' : 'rice_cultivation', 'Crop Residues':'crop_residues', 'Forest fires':'forest_fires', 'Savanna fires': 'savanna_fires', 'Area' :'area', 'Year' : 'year'})\n",
    "                        \n",
    "                    "
   ]
  },
  {
   "cell_type": "code",
   "execution_count": 27,
   "metadata": {
    "id": "uRkm9EsQjkRP"
   },
   "outputs": [
    {
     "data": {
      "text/html": [
       "<div>\n",
       "<style scoped>\n",
       "    .dataframe tbody tr th:only-of-type {\n",
       "        vertical-align: middle;\n",
       "    }\n",
       "\n",
       "    .dataframe tbody tr th {\n",
       "        vertical-align: top;\n",
       "    }\n",
       "\n",
       "    .dataframe thead th {\n",
       "        text-align: right;\n",
       "    }\n",
       "</style>\n",
       "<table border=\"1\" class=\"dataframe\">\n",
       "  <thead>\n",
       "    <tr style=\"text-align: right;\">\n",
       "      <th></th>\n",
       "      <th>area</th>\n",
       "      <th>year</th>\n",
       "      <th>savanna_fires</th>\n",
       "      <th>forest_fires</th>\n",
       "      <th>crop_residues</th>\n",
       "      <th>rice_cultivation</th>\n",
       "      <th>drained_organic_soils</th>\n",
       "      <th>pesticides_manufacturing</th>\n",
       "      <th>food_transport</th>\n",
       "      <th>forestland</th>\n",
       "      <th>...</th>\n",
       "      <th>manure_management</th>\n",
       "      <th>fires_in_organic_soils</th>\n",
       "      <th>fires_in_humid_tropical_forests</th>\n",
       "      <th>on_farm_energy_use</th>\n",
       "      <th>rural_population</th>\n",
       "      <th>urban_population</th>\n",
       "      <th>male_population</th>\n",
       "      <th>female_population</th>\n",
       "      <th>total_emission</th>\n",
       "      <th>average_temperature_change</th>\n",
       "    </tr>\n",
       "  </thead>\n",
       "  <tbody>\n",
       "    <tr>\n",
       "      <th>0</th>\n",
       "      <td>Afghanistan</td>\n",
       "      <td>1990</td>\n",
       "      <td>14.7237</td>\n",
       "      <td>0.0557</td>\n",
       "      <td>205.6077</td>\n",
       "      <td>686.00</td>\n",
       "      <td>0.0</td>\n",
       "      <td>11.807483</td>\n",
       "      <td>63.1152</td>\n",
       "      <td>-2388.803</td>\n",
       "      <td>...</td>\n",
       "      <td>319.1763</td>\n",
       "      <td>0.0</td>\n",
       "      <td>0.0</td>\n",
       "      <td>NaN</td>\n",
       "      <td>9655167.0</td>\n",
       "      <td>2593947.0</td>\n",
       "      <td>5348387.0</td>\n",
       "      <td>5346409.0</td>\n",
       "      <td>2198.963539</td>\n",
       "      <td>0.536167</td>\n",
       "    </tr>\n",
       "    <tr>\n",
       "      <th>1</th>\n",
       "      <td>Afghanistan</td>\n",
       "      <td>1991</td>\n",
       "      <td>14.7237</td>\n",
       "      <td>0.0557</td>\n",
       "      <td>209.4971</td>\n",
       "      <td>678.16</td>\n",
       "      <td>0.0</td>\n",
       "      <td>11.712073</td>\n",
       "      <td>61.2125</td>\n",
       "      <td>-2388.803</td>\n",
       "      <td>...</td>\n",
       "      <td>342.3079</td>\n",
       "      <td>0.0</td>\n",
       "      <td>0.0</td>\n",
       "      <td>NaN</td>\n",
       "      <td>10230490.0</td>\n",
       "      <td>2763167.0</td>\n",
       "      <td>5372959.0</td>\n",
       "      <td>5372208.0</td>\n",
       "      <td>2323.876629</td>\n",
       "      <td>0.020667</td>\n",
       "    </tr>\n",
       "    <tr>\n",
       "      <th>2</th>\n",
       "      <td>Afghanistan</td>\n",
       "      <td>1992</td>\n",
       "      <td>14.7237</td>\n",
       "      <td>0.0557</td>\n",
       "      <td>196.5341</td>\n",
       "      <td>686.00</td>\n",
       "      <td>0.0</td>\n",
       "      <td>11.712073</td>\n",
       "      <td>53.3170</td>\n",
       "      <td>-2388.803</td>\n",
       "      <td>...</td>\n",
       "      <td>349.1224</td>\n",
       "      <td>0.0</td>\n",
       "      <td>0.0</td>\n",
       "      <td>NaN</td>\n",
       "      <td>10995568.0</td>\n",
       "      <td>2985663.0</td>\n",
       "      <td>6028494.0</td>\n",
       "      <td>6028939.0</td>\n",
       "      <td>2356.304229</td>\n",
       "      <td>-0.259583</td>\n",
       "    </tr>\n",
       "    <tr>\n",
       "      <th>3</th>\n",
       "      <td>Afghanistan</td>\n",
       "      <td>1993</td>\n",
       "      <td>14.7237</td>\n",
       "      <td>0.0557</td>\n",
       "      <td>230.8175</td>\n",
       "      <td>686.00</td>\n",
       "      <td>0.0</td>\n",
       "      <td>11.712073</td>\n",
       "      <td>54.3617</td>\n",
       "      <td>-2388.803</td>\n",
       "      <td>...</td>\n",
       "      <td>352.2947</td>\n",
       "      <td>0.0</td>\n",
       "      <td>0.0</td>\n",
       "      <td>NaN</td>\n",
       "      <td>11858090.0</td>\n",
       "      <td>3237009.0</td>\n",
       "      <td>7003641.0</td>\n",
       "      <td>7000119.0</td>\n",
       "      <td>2368.470529</td>\n",
       "      <td>0.101917</td>\n",
       "    </tr>\n",
       "    <tr>\n",
       "      <th>4</th>\n",
       "      <td>Afghanistan</td>\n",
       "      <td>1994</td>\n",
       "      <td>14.7237</td>\n",
       "      <td>0.0557</td>\n",
       "      <td>242.0494</td>\n",
       "      <td>705.60</td>\n",
       "      <td>0.0</td>\n",
       "      <td>11.712073</td>\n",
       "      <td>53.9874</td>\n",
       "      <td>-2388.803</td>\n",
       "      <td>...</td>\n",
       "      <td>367.6784</td>\n",
       "      <td>0.0</td>\n",
       "      <td>0.0</td>\n",
       "      <td>NaN</td>\n",
       "      <td>12690115.0</td>\n",
       "      <td>3482604.0</td>\n",
       "      <td>7733458.0</td>\n",
       "      <td>7722096.0</td>\n",
       "      <td>2500.768729</td>\n",
       "      <td>0.372250</td>\n",
       "    </tr>\n",
       "  </tbody>\n",
       "</table>\n",
       "<p>5 rows × 31 columns</p>\n",
       "</div>"
      ],
      "text/plain": [
       "          area  year  savanna_fires  forest_fires  crop_residues  \\\n",
       "0  Afghanistan  1990        14.7237        0.0557       205.6077   \n",
       "1  Afghanistan  1991        14.7237        0.0557       209.4971   \n",
       "2  Afghanistan  1992        14.7237        0.0557       196.5341   \n",
       "3  Afghanistan  1993        14.7237        0.0557       230.8175   \n",
       "4  Afghanistan  1994        14.7237        0.0557       242.0494   \n",
       "\n",
       "   rice_cultivation  drained_organic_soils  pesticides_manufacturing  \\\n",
       "0            686.00                    0.0                 11.807483   \n",
       "1            678.16                    0.0                 11.712073   \n",
       "2            686.00                    0.0                 11.712073   \n",
       "3            686.00                    0.0                 11.712073   \n",
       "4            705.60                    0.0                 11.712073   \n",
       "\n",
       "   food_transport  forestland  ...  manure_management  fires_in_organic_soils  \\\n",
       "0         63.1152   -2388.803  ...           319.1763                     0.0   \n",
       "1         61.2125   -2388.803  ...           342.3079                     0.0   \n",
       "2         53.3170   -2388.803  ...           349.1224                     0.0   \n",
       "3         54.3617   -2388.803  ...           352.2947                     0.0   \n",
       "4         53.9874   -2388.803  ...           367.6784                     0.0   \n",
       "\n",
       "   fires_in_humid_tropical_forests  on_farm_energy_use  rural_population  \\\n",
       "0                              0.0                 NaN         9655167.0   \n",
       "1                              0.0                 NaN        10230490.0   \n",
       "2                              0.0                 NaN        10995568.0   \n",
       "3                              0.0                 NaN        11858090.0   \n",
       "4                              0.0                 NaN        12690115.0   \n",
       "\n",
       "   urban_population  male_population  female_population  total_emission  \\\n",
       "0         2593947.0        5348387.0          5346409.0     2198.963539   \n",
       "1         2763167.0        5372959.0          5372208.0     2323.876629   \n",
       "2         2985663.0        6028494.0          6028939.0     2356.304229   \n",
       "3         3237009.0        7003641.0          7000119.0     2368.470529   \n",
       "4         3482604.0        7733458.0          7722096.0     2500.768729   \n",
       "\n",
       "   average_temperature_change  \n",
       "0                    0.536167  \n",
       "1                    0.020667  \n",
       "2                   -0.259583  \n",
       "3                    0.101917  \n",
       "4                    0.372250  \n",
       "\n",
       "[5 rows x 31 columns]"
      ]
     },
     "execution_count": 27,
     "metadata": {},
     "output_type": "execute_result"
    }
   ],
   "source": [
    "df.head()"
   ]
  },
  {
   "cell_type": "code",
   "execution_count": null,
   "metadata": {},
   "outputs": [],
   "source": []
  },
  {
   "cell_type": "code",
   "execution_count": 24,
   "metadata": {},
   "outputs": [
    {
     "name": "stdout",
     "output_type": "stream",
     "text": [
      "Null Values in each column\n",
      "area                                  0\n",
      "year                                  0\n",
      "savanna_fires                        31\n",
      "forest_fires                         93\n",
      "crop_residues                      1389\n",
      "rice_cultivation                      0\n",
      "drained_organic_soils                 0\n",
      "pesticides_manufacturing              0\n",
      "food_transport                        0\n",
      "forestland                          493\n",
      "net_forest_conversion               493\n",
      "food_household_consumption          473\n",
      "food_retail                           0\n",
      "on_farm_electricity_use               0\n",
      "food_packaging                        0\n",
      "agrifood_systems_waste_disposal       0\n",
      "food_processing                       0\n",
      "fertilizers_manufacturing             0\n",
      "IPPU                                743\n",
      "manure_applied_to_soils             928\n",
      "manure_left_on_pasture                0\n",
      "manure_management                   928\n",
      "fires_in_organic_soils                0\n",
      "fires_in_humid_tropical_forests     155\n",
      "on_farm_energy_use                  956\n",
      "rural_population                      0\n",
      "urban_population                      0\n",
      "male_population                       0\n",
      "female_population                     0\n",
      "total_emission                        0\n",
      "average_temperature_change            0\n",
      "dtype: int64\n"
     ]
    }
   ],
   "source": [
    "\n",
    "#Checking for null values per column\n",
    "print(\"Null Values in each column\")\n",
    "print(df.isnull().sum())"
   ]
  },
  {
   "cell_type": "code",
   "execution_count": 31,
   "metadata": {},
   "outputs": [],
   "source": [
    "\n",
    "#Replacing Missing Values with zero\n",
    "df[['savanna_fires', 'forest_fires', 'crop_residues', 'forestland', 'net_forest_conversion', 'food_household_consumption', 'IPPU','manure_applied_to_soils','manure_management', 'fires_in_humid_tropical_forests', 'on_farm_energy_use']] = df[['savanna_fires', 'forest_fires', 'crop_residues', 'forestland', 'net_forest_conversion', 'food_household_consumption', 'IPPU','manure_applied_to_soils','manure_management', 'fires_in_humid_tropical_forests', 'on_farm_energy_use']].fillna(0)\n"
   ]
  },
  {
   "cell_type": "markdown",
   "metadata": {},
   "source": [
    "The empty cells are specific to specific areas, hence their replacement with zero"
   ]
  },
  {
   "cell_type": "markdown",
   "metadata": {},
   "source": []
  },
  {
   "cell_type": "code",
   "execution_count": 37,
   "metadata": {},
   "outputs": [
    {
     "name": "stdout",
     "output_type": "stream",
     "text": [
      "Number of duplicated rows: \n",
      "0\n"
     ]
    }
   ],
   "source": [
    "#Checking for duplicates\n",
    "print(\"Number of duplicated rows: \")\n",
    "print(df.duplicated().sum())"
   ]
  },
  {
   "cell_type": "code",
   "execution_count": 39,
   "metadata": {},
   "outputs": [
    {
     "data": {
      "text/html": [
       "<div>\n",
       "<style scoped>\n",
       "    .dataframe tbody tr th:only-of-type {\n",
       "        vertical-align: middle;\n",
       "    }\n",
       "\n",
       "    .dataframe tbody tr th {\n",
       "        vertical-align: top;\n",
       "    }\n",
       "\n",
       "    .dataframe thead th {\n",
       "        text-align: right;\n",
       "    }\n",
       "</style>\n",
       "<table border=\"1\" class=\"dataframe\">\n",
       "  <thead>\n",
       "    <tr style=\"text-align: right;\">\n",
       "      <th></th>\n",
       "      <th>year</th>\n",
       "      <th>savanna_fires</th>\n",
       "      <th>forest_fires</th>\n",
       "      <th>crop_residues</th>\n",
       "      <th>rice_cultivation</th>\n",
       "      <th>drained_organic_soils</th>\n",
       "      <th>pesticides_manufacturing</th>\n",
       "      <th>food_transport</th>\n",
       "      <th>forestland</th>\n",
       "      <th>net_forest_conversion</th>\n",
       "      <th>...</th>\n",
       "      <th>manure_management</th>\n",
       "      <th>fires_in_organic_soils</th>\n",
       "      <th>fires_in_humid_tropical_forests</th>\n",
       "      <th>on_farm_energy_use</th>\n",
       "      <th>rural_population</th>\n",
       "      <th>urban_population</th>\n",
       "      <th>male_population</th>\n",
       "      <th>female_population</th>\n",
       "      <th>total_emission</th>\n",
       "      <th>average_temperature_change</th>\n",
       "    </tr>\n",
       "  </thead>\n",
       "  <tbody>\n",
       "    <tr>\n",
       "      <th>count</th>\n",
       "      <td>6965.000000</td>\n",
       "      <td>6965.000000</td>\n",
       "      <td>6965.000000</td>\n",
       "      <td>6965.000000</td>\n",
       "      <td>6965.000000</td>\n",
       "      <td>6965.000000</td>\n",
       "      <td>6965.000000</td>\n",
       "      <td>6965.000000</td>\n",
       "      <td>6965.000000</td>\n",
       "      <td>6.965000e+03</td>\n",
       "      <td>...</td>\n",
       "      <td>6965.000000</td>\n",
       "      <td>6965.000000</td>\n",
       "      <td>6965.000000</td>\n",
       "      <td>6965.000000</td>\n",
       "      <td>6.965000e+03</td>\n",
       "      <td>6.965000e+03</td>\n",
       "      <td>6.965000e+03</td>\n",
       "      <td>6.965000e+03</td>\n",
       "      <td>6.965000e+03</td>\n",
       "      <td>6965.000000</td>\n",
       "    </tr>\n",
       "    <tr>\n",
       "      <th>mean</th>\n",
       "      <td>2005.124910</td>\n",
       "      <td>1183.101572</td>\n",
       "      <td>907.027206</td>\n",
       "      <td>799.538604</td>\n",
       "      <td>4259.666673</td>\n",
       "      <td>3503.228636</td>\n",
       "      <td>333.418393</td>\n",
       "      <td>1939.581760</td>\n",
       "      <td>-16566.355335</td>\n",
       "      <td>1.635947e+04</td>\n",
       "      <td>...</td>\n",
       "      <td>1961.782260</td>\n",
       "      <td>1210.315532</td>\n",
       "      <td>653.577094</td>\n",
       "      <td>2595.976217</td>\n",
       "      <td>1.785774e+07</td>\n",
       "      <td>1.693230e+07</td>\n",
       "      <td>1.761963e+07</td>\n",
       "      <td>1.732447e+07</td>\n",
       "      <td>6.409124e+04</td>\n",
       "      <td>0.872989</td>\n",
       "    </tr>\n",
       "    <tr>\n",
       "      <th>std</th>\n",
       "      <td>8.894665</td>\n",
       "      <td>5235.195713</td>\n",
       "      <td>3696.662005</td>\n",
       "      <td>3334.783518</td>\n",
       "      <td>17613.825187</td>\n",
       "      <td>15861.445678</td>\n",
       "      <td>1429.159367</td>\n",
       "      <td>5616.748808</td>\n",
       "      <td>79014.907125</td>\n",
       "      <td>9.761571e+04</td>\n",
       "      <td>...</td>\n",
       "      <td>7469.521165</td>\n",
       "      <td>22669.847760</td>\n",
       "      <td>3229.846962</td>\n",
       "      <td>11783.996613</td>\n",
       "      <td>8.901521e+07</td>\n",
       "      <td>6.574362e+07</td>\n",
       "      <td>7.603993e+07</td>\n",
       "      <td>7.251711e+07</td>\n",
       "      <td>2.283130e+05</td>\n",
       "      <td>0.555930</td>\n",
       "    </tr>\n",
       "    <tr>\n",
       "      <th>min</th>\n",
       "      <td>1990.000000</td>\n",
       "      <td>0.000000</td>\n",
       "      <td>0.000000</td>\n",
       "      <td>0.000000</td>\n",
       "      <td>0.000000</td>\n",
       "      <td>0.000000</td>\n",
       "      <td>0.000000</td>\n",
       "      <td>0.000100</td>\n",
       "      <td>-797183.079000</td>\n",
       "      <td>0.000000e+00</td>\n",
       "      <td>...</td>\n",
       "      <td>0.000000</td>\n",
       "      <td>0.000000</td>\n",
       "      <td>0.000000</td>\n",
       "      <td>0.000000</td>\n",
       "      <td>0.000000e+00</td>\n",
       "      <td>0.000000e+00</td>\n",
       "      <td>2.500000e+02</td>\n",
       "      <td>2.700000e+02</td>\n",
       "      <td>-3.918841e+05</td>\n",
       "      <td>-1.415833</td>\n",
       "    </tr>\n",
       "    <tr>\n",
       "      <th>25%</th>\n",
       "      <td>1997.000000</td>\n",
       "      <td>0.000000</td>\n",
       "      <td>0.000000</td>\n",
       "      <td>0.028400</td>\n",
       "      <td>181.260800</td>\n",
       "      <td>0.000000</td>\n",
       "      <td>6.000000</td>\n",
       "      <td>27.958600</td>\n",
       "      <td>-2299.387200</td>\n",
       "      <td>0.000000e+00</td>\n",
       "      <td>...</td>\n",
       "      <td>11.038100</td>\n",
       "      <td>0.000000</td>\n",
       "      <td>0.000000</td>\n",
       "      <td>5.013600</td>\n",
       "      <td>9.731100e+04</td>\n",
       "      <td>2.173860e+05</td>\n",
       "      <td>2.013260e+05</td>\n",
       "      <td>2.078900e+05</td>\n",
       "      <td>5.221244e+03</td>\n",
       "      <td>0.511333</td>\n",
       "    </tr>\n",
       "    <tr>\n",
       "      <th>50%</th>\n",
       "      <td>2005.000000</td>\n",
       "      <td>1.587000</td>\n",
       "      <td>0.416400</td>\n",
       "      <td>43.004800</td>\n",
       "      <td>534.817400</td>\n",
       "      <td>0.000000</td>\n",
       "      <td>13.000000</td>\n",
       "      <td>204.962800</td>\n",
       "      <td>-30.853100</td>\n",
       "      <td>9.029000e+00</td>\n",
       "      <td>...</td>\n",
       "      <td>163.463900</td>\n",
       "      <td>0.000000</td>\n",
       "      <td>0.000000</td>\n",
       "      <td>55.982200</td>\n",
       "      <td>1.595322e+06</td>\n",
       "      <td>2.357581e+06</td>\n",
       "      <td>2.469660e+06</td>\n",
       "      <td>2.444135e+06</td>\n",
       "      <td>1.214765e+04</td>\n",
       "      <td>0.834300</td>\n",
       "    </tr>\n",
       "    <tr>\n",
       "      <th>75%</th>\n",
       "      <td>2013.000000</td>\n",
       "      <td>108.361700</td>\n",
       "      <td>61.237200</td>\n",
       "      <td>264.718000</td>\n",
       "      <td>1536.640000</td>\n",
       "      <td>690.408800</td>\n",
       "      <td>116.325487</td>\n",
       "      <td>1207.000900</td>\n",
       "      <td>0.000000</td>\n",
       "      <td>3.830905e+03</td>\n",
       "      <td>...</td>\n",
       "      <td>883.170300</td>\n",
       "      <td>0.000000</td>\n",
       "      <td>6.941800</td>\n",
       "      <td>845.713100</td>\n",
       "      <td>8.177340e+06</td>\n",
       "      <td>8.277123e+06</td>\n",
       "      <td>9.075924e+06</td>\n",
       "      <td>9.112588e+06</td>\n",
       "      <td>3.513973e+04</td>\n",
       "      <td>1.206750</td>\n",
       "    </tr>\n",
       "    <tr>\n",
       "      <th>max</th>\n",
       "      <td>2020.000000</td>\n",
       "      <td>114616.401100</td>\n",
       "      <td>52227.630600</td>\n",
       "      <td>33490.074100</td>\n",
       "      <td>164915.255600</td>\n",
       "      <td>241025.069600</td>\n",
       "      <td>16459.000000</td>\n",
       "      <td>67945.765000</td>\n",
       "      <td>171121.076000</td>\n",
       "      <td>1.605106e+06</td>\n",
       "      <td>...</td>\n",
       "      <td>70592.646500</td>\n",
       "      <td>991717.543100</td>\n",
       "      <td>51771.256800</td>\n",
       "      <td>248879.176900</td>\n",
       "      <td>9.000991e+08</td>\n",
       "      <td>9.020778e+08</td>\n",
       "      <td>7.435866e+08</td>\n",
       "      <td>7.133419e+08</td>\n",
       "      <td>3.115114e+06</td>\n",
       "      <td>3.558083</td>\n",
       "    </tr>\n",
       "  </tbody>\n",
       "</table>\n",
       "<p>8 rows × 30 columns</p>\n",
       "</div>"
      ],
      "text/plain": [
       "              year  savanna_fires  forest_fires  crop_residues  \\\n",
       "count  6965.000000    6965.000000   6965.000000    6965.000000   \n",
       "mean   2005.124910    1183.101572    907.027206     799.538604   \n",
       "std       8.894665    5235.195713   3696.662005    3334.783518   \n",
       "min    1990.000000       0.000000      0.000000       0.000000   \n",
       "25%    1997.000000       0.000000      0.000000       0.028400   \n",
       "50%    2005.000000       1.587000      0.416400      43.004800   \n",
       "75%    2013.000000     108.361700     61.237200     264.718000   \n",
       "max    2020.000000  114616.401100  52227.630600   33490.074100   \n",
       "\n",
       "       rice_cultivation  drained_organic_soils  pesticides_manufacturing  \\\n",
       "count       6965.000000            6965.000000               6965.000000   \n",
       "mean        4259.666673            3503.228636                333.418393   \n",
       "std        17613.825187           15861.445678               1429.159367   \n",
       "min            0.000000               0.000000                  0.000000   \n",
       "25%          181.260800               0.000000                  6.000000   \n",
       "50%          534.817400               0.000000                 13.000000   \n",
       "75%         1536.640000             690.408800                116.325487   \n",
       "max       164915.255600          241025.069600              16459.000000   \n",
       "\n",
       "       food_transport     forestland  net_forest_conversion  ...  \\\n",
       "count     6965.000000    6965.000000           6.965000e+03  ...   \n",
       "mean      1939.581760  -16566.355335           1.635947e+04  ...   \n",
       "std       5616.748808   79014.907125           9.761571e+04  ...   \n",
       "min          0.000100 -797183.079000           0.000000e+00  ...   \n",
       "25%         27.958600   -2299.387200           0.000000e+00  ...   \n",
       "50%        204.962800     -30.853100           9.029000e+00  ...   \n",
       "75%       1207.000900       0.000000           3.830905e+03  ...   \n",
       "max      67945.765000  171121.076000           1.605106e+06  ...   \n",
       "\n",
       "       manure_management  fires_in_organic_soils  \\\n",
       "count        6965.000000             6965.000000   \n",
       "mean         1961.782260             1210.315532   \n",
       "std          7469.521165            22669.847760   \n",
       "min             0.000000                0.000000   \n",
       "25%            11.038100                0.000000   \n",
       "50%           163.463900                0.000000   \n",
       "75%           883.170300                0.000000   \n",
       "max         70592.646500           991717.543100   \n",
       "\n",
       "       fires_in_humid_tropical_forests  on_farm_energy_use  rural_population  \\\n",
       "count                      6965.000000         6965.000000      6.965000e+03   \n",
       "mean                        653.577094         2595.976217      1.785774e+07   \n",
       "std                        3229.846962        11783.996613      8.901521e+07   \n",
       "min                           0.000000            0.000000      0.000000e+00   \n",
       "25%                           0.000000            5.013600      9.731100e+04   \n",
       "50%                           0.000000           55.982200      1.595322e+06   \n",
       "75%                           6.941800          845.713100      8.177340e+06   \n",
       "max                       51771.256800       248879.176900      9.000991e+08   \n",
       "\n",
       "       urban_population  male_population  female_population  total_emission  \\\n",
       "count      6.965000e+03     6.965000e+03       6.965000e+03    6.965000e+03   \n",
       "mean       1.693230e+07     1.761963e+07       1.732447e+07    6.409124e+04   \n",
       "std        6.574362e+07     7.603993e+07       7.251711e+07    2.283130e+05   \n",
       "min        0.000000e+00     2.500000e+02       2.700000e+02   -3.918841e+05   \n",
       "25%        2.173860e+05     2.013260e+05       2.078900e+05    5.221244e+03   \n",
       "50%        2.357581e+06     2.469660e+06       2.444135e+06    1.214765e+04   \n",
       "75%        8.277123e+06     9.075924e+06       9.112588e+06    3.513973e+04   \n",
       "max        9.020778e+08     7.435866e+08       7.133419e+08    3.115114e+06   \n",
       "\n",
       "       average_temperature_change  \n",
       "count                 6965.000000  \n",
       "mean                     0.872989  \n",
       "std                      0.555930  \n",
       "min                     -1.415833  \n",
       "25%                      0.511333  \n",
       "50%                      0.834300  \n",
       "75%                      1.206750  \n",
       "max                      3.558083  \n",
       "\n",
       "[8 rows x 30 columns]"
      ]
     },
     "execution_count": 39,
     "metadata": {},
     "output_type": "execute_result"
    }
   ],
   "source": [
    "\n",
    "#Generate descriptive statistics\n",
    "df.describe()"
   ]
  },
  {
   "cell_type": "markdown",
   "metadata": {},
   "source": []
  },
  {
   "cell_type": "code",
   "execution_count": null,
   "metadata": {},
   "outputs": [],
   "source": [
    "print(\"Correlation Matrix:\")\n",
    "df.corr()"
   ]
  },
  {
   "cell_type": "markdown",
   "metadata": {},
   "source": []
  },
  {
   "cell_type": "markdown",
   "metadata": {},
   "source": [
    "### 5. Exploratory Data Analysis"
   ]
  },
  {
   "cell_type": "markdown",
   "metadata": {
    "id": "somAo8bpjkhR"
   },
   "source": [
    "##5. Exploratory Data Analysis <a class=\"anchor\" id=\"chapter5\"></a>"
   ]
  },
  {
   "cell_type": "markdown",
   "metadata": {
    "id": "y_xspBt9j3eu"
   },
   "source": [
    "*Brief section introduction"
   ]
  },
  {
   "cell_type": "code",
   "execution_count": null,
   "metadata": {
    "id": "O0SD87aFj5lS"
   },
   "outputs": [],
   "source": []
  },
  {
   "cell_type": "markdown",
   "metadata": {
    "id": "8B0CX9YGj3-r"
   },
   "source": [
    "*Insights/comments"
   ]
  },
  {
   "cell_type": "markdown",
   "metadata": {},
   "source": [
    "### 6. Feature Engineering"
   ]
  },
  {
   "cell_type": "markdown",
   "metadata": {
    "id": "XJSyotdzj4U2"
   },
   "source": [
    "##6. Feature Engineering <a class=\"anchor\" id=\"chapter6\"></a>"
   ]
  },
  {
   "cell_type": "markdown",
   "metadata": {
    "id": "D_TP5I_ckAQ2"
   },
   "source": [
    "*Brief section introduction"
   ]
  },
  {
   "cell_type": "code",
   "execution_count": null,
   "metadata": {
    "id": "c7vwcpR-kAo1"
   },
   "outputs": [],
   "source": []
  },
  {
   "cell_type": "markdown",
   "metadata": {
    "id": "GCYiiiqikA-6"
   },
   "source": [
    "*Insights"
   ]
  },
  {
   "cell_type": "markdown",
   "metadata": {},
   "source": [
    "### 7. Model Development"
   ]
  },
  {
   "cell_type": "markdown",
   "metadata": {
    "id": "gl8WSasokBQ8"
   },
   "source": [
    "##7. Model Development <a class=\"anchor\" id=\"chapter7\"></a>"
   ]
  },
  {
   "cell_type": "markdown",
   "metadata": {
    "id": "Y0K0z0GjkfG5"
   },
   "source": [
    "*Brief section introduction"
   ]
  },
  {
   "cell_type": "code",
   "execution_count": null,
   "metadata": {
    "id": "qMKEJ1XDkfj_"
   },
   "outputs": [],
   "source": []
  },
  {
   "cell_type": "markdown",
   "metadata": {
    "id": "3q_WteiLkgvc"
   },
   "source": [
    "*Insights/comments"
   ]
  },
  {
   "cell_type": "markdown",
   "metadata": {},
   "source": [
    "### 8. Model Performance"
   ]
  },
  {
   "cell_type": "markdown",
   "metadata": {
    "id": "FYzEmyvCkhNd"
   },
   "source": [
    "##8. Model Performance <a class=\"anchor\" id=\"chapter8\"></a>"
   ]
  },
  {
   "cell_type": "markdown",
   "metadata": {
    "id": "jH4wyHgckual"
   },
   "source": [
    "*Brief section introduction"
   ]
  },
  {
   "cell_type": "code",
   "execution_count": null,
   "metadata": {
    "id": "Cl2aLRNRk7lK"
   },
   "outputs": [],
   "source": []
  },
  {
   "cell_type": "markdown",
   "metadata": {
    "id": "ob0eRfQVk78i"
   },
   "source": [
    "*Insights/comments"
   ]
  },
  {
   "cell_type": "markdown",
   "metadata": {
    "id": "PdOdMMk2ldDX"
   },
   "source": [
    "### 9. Conclusion and Recommendations "
   ]
  },
  {
   "cell_type": "markdown",
   "metadata": {},
   "source": [
    "##9. Conclusion and Recommendations <a class=\"anchor\" id=\"chapter9\"></a>"
   ]
  },
  {
   "cell_type": "markdown",
   "metadata": {
    "id": "1vTten3alp1D"
   },
   "source": [
    "*Summarise Insights\n",
    "*Offer recommendations such as sustainable agricultural practices"
   ]
  }
 ],
 "metadata": {
  "colab": {
   "provenance": []
  },
  "kernelspec": {
   "display_name": "Python 3 (ipykernel)",
   "language": "python",
   "name": "python3"
  },
  "language_info": {
   "codemirror_mode": {
    "name": "ipython",
    "version": 3
   },
   "file_extension": ".py",
   "mimetype": "text/x-python",
   "name": "python",
   "nbconvert_exporter": "python",
   "pygments_lexer": "ipython3",
   "version": "3.12.7"
  }
 },
 "nbformat": 4,
 "nbformat_minor": 4
}
